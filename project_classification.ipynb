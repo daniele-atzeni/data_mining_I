{
 "cells": [
  {
   "cell_type": "code",
   "execution_count": 1,
   "metadata": {},
   "outputs": [
    {
     "name": "stderr",
     "output_type": "stream",
     "text": [
      "C:\\Users\\danie\\Anaconda3\\lib\\site-packages\\sklearn\\cross_validation.py:41: DeprecationWarning: This module was deprecated in version 0.18 in favor of the model_selection module into which all the refactored classes and functions are moved. Also note that the interface of the new CV iterators are different from that of this module. This module will be removed in 0.20.\n",
      "  \"This module will be removed in 0.20.\", DeprecationWarning)\n"
     ]
    }
   ],
   "source": [
    "%matplotlib inline\n",
    "import math\n",
    "import random\n",
    "import numpy as np\n",
    "import pandas as pd\n",
    "import scipy.stats as stats\n",
    "import matplotlib.pyplot as plt\n",
    "from collections import defaultdict\n",
    "from scipy.stats.stats import pearsonr\n",
    "\n",
    "from sklearn import tree\n",
    "from sklearn import metrics\n",
    "from sklearn.tree import export_graphviz\n",
    "from sklearn.ensemble import RandomForestClassifier, ExtraTreesClassifier\n",
    "from sklearn.metrics import confusion_matrix\n",
    "from sklearn.cross_validation import train_test_split\n",
    "from sklearn import cross_validation\n",
    "from sklearn.cross_validation import cross_val_score\n",
    "#from sklearn import neighbors\n",
    "#from sklearn import linear_model\n",
    "#from sklearn.naive_bayes import GaussianNB\n",
    "#from sklearn import svm"
   ]
  },
  {
   "cell_type": "code",
   "execution_count": 2,
   "metadata": {},
   "outputs": [],
   "source": [
    "df = pd.read_csv('HR_comma_sep.csv')\n",
    "# we must convert this into an array ---> transform each variable in a numerical variable\n",
    "df_train = df\n",
    "dataset_without_left = df_train.copy()\n",
    "dataset_without_left.drop(['left'], axis=1, inplace=True)"
   ]
  },
  {
   "cell_type": "code",
   "execution_count": 3,
   "metadata": {},
   "outputs": [
    {
     "data": {
      "text/html": [
       "<div>\n",
       "<style scoped>\n",
       "    .dataframe tbody tr th:only-of-type {\n",
       "        vertical-align: middle;\n",
       "    }\n",
       "\n",
       "    .dataframe tbody tr th {\n",
       "        vertical-align: top;\n",
       "    }\n",
       "\n",
       "    .dataframe thead th {\n",
       "        text-align: right;\n",
       "    }\n",
       "</style>\n",
       "<table border=\"1\" class=\"dataframe\">\n",
       "  <thead>\n",
       "    <tr style=\"text-align: right;\">\n",
       "      <th></th>\n",
       "      <th>left</th>\n",
       "      <th>satisfaction_level</th>\n",
       "      <th>last_evaluation</th>\n",
       "      <th>number_project</th>\n",
       "      <th>average_montly_hours</th>\n",
       "      <th>time_spend_company</th>\n",
       "      <th>Work_accident</th>\n",
       "      <th>promotion_last_5years</th>\n",
       "      <th>sales_val</th>\n",
       "      <th>salary_val</th>\n",
       "    </tr>\n",
       "  </thead>\n",
       "  <tbody>\n",
       "    <tr>\n",
       "      <th>0</th>\n",
       "      <td>1</td>\n",
       "      <td>0.38</td>\n",
       "      <td>0.53</td>\n",
       "      <td>2</td>\n",
       "      <td>157</td>\n",
       "      <td>3</td>\n",
       "      <td>0</td>\n",
       "      <td>0</td>\n",
       "      <td>7</td>\n",
       "      <td>0</td>\n",
       "    </tr>\n",
       "    <tr>\n",
       "      <th>1</th>\n",
       "      <td>1</td>\n",
       "      <td>0.80</td>\n",
       "      <td>0.86</td>\n",
       "      <td>5</td>\n",
       "      <td>262</td>\n",
       "      <td>6</td>\n",
       "      <td>0</td>\n",
       "      <td>0</td>\n",
       "      <td>7</td>\n",
       "      <td>1</td>\n",
       "    </tr>\n",
       "    <tr>\n",
       "      <th>2</th>\n",
       "      <td>1</td>\n",
       "      <td>0.11</td>\n",
       "      <td>0.88</td>\n",
       "      <td>7</td>\n",
       "      <td>272</td>\n",
       "      <td>4</td>\n",
       "      <td>0</td>\n",
       "      <td>0</td>\n",
       "      <td>7</td>\n",
       "      <td>1</td>\n",
       "    </tr>\n",
       "    <tr>\n",
       "      <th>3</th>\n",
       "      <td>1</td>\n",
       "      <td>0.72</td>\n",
       "      <td>0.87</td>\n",
       "      <td>5</td>\n",
       "      <td>223</td>\n",
       "      <td>5</td>\n",
       "      <td>0</td>\n",
       "      <td>0</td>\n",
       "      <td>7</td>\n",
       "      <td>0</td>\n",
       "    </tr>\n",
       "    <tr>\n",
       "      <th>4</th>\n",
       "      <td>1</td>\n",
       "      <td>0.37</td>\n",
       "      <td>0.52</td>\n",
       "      <td>2</td>\n",
       "      <td>159</td>\n",
       "      <td>3</td>\n",
       "      <td>0</td>\n",
       "      <td>0</td>\n",
       "      <td>7</td>\n",
       "      <td>0</td>\n",
       "    </tr>\n",
       "  </tbody>\n",
       "</table>\n",
       "</div>"
      ],
      "text/plain": [
       "   left  satisfaction_level  last_evaluation  number_project  \\\n",
       "0     1                0.38             0.53               2   \n",
       "1     1                0.80             0.86               5   \n",
       "2     1                0.11             0.88               7   \n",
       "3     1                0.72             0.87               5   \n",
       "4     1                0.37             0.52               2   \n",
       "\n",
       "   average_montly_hours  time_spend_company  Work_accident  \\\n",
       "0                   157                   3              0   \n",
       "1                   262                   6              0   \n",
       "2                   272                   4              0   \n",
       "3                   223                   5              0   \n",
       "4                   159                   3              0   \n",
       "\n",
       "   promotion_last_5years  sales_val  salary_val  \n",
       "0                      0          7           0  \n",
       "1                      0          7           1  \n",
       "2                      0          7           1  \n",
       "3                      0          7           0  \n",
       "4                      0          7           0  "
      ]
     },
     "execution_count": 3,
     "metadata": {},
     "output_type": "execute_result"
    }
   ],
   "source": [
    "sales = sorted(df_train['sales'].unique())   \n",
    "sales_mapping = dict(zip(sales, range(0, len(sales) + 1)))\n",
    "df_train['sales_val'] = df_train['sales'].map(sales_mapping).astype(int)\n",
    "\n",
    "salary_mapping = {'low':0, 'medium':1, 'high':2}\n",
    "df_train['salary_val'] = df_train['salary'].map(salary_mapping).astype(int)\n",
    "\n",
    "df_train = df_train.drop(['salary', 'sales'], axis=1)\n",
    "\n",
    "# I want 'left' as first column \n",
    "col = list(df_train.columns)\n",
    "col.remove('left')\n",
    "col = ['left'] + col\n",
    "\n",
    "df_train = df_train[col]\n",
    "df_train.head()\n",
    "df_train2 = df_train.copy()\n",
    "df_train2 = df_train2.drop(['number_project', 'time_spend_company','Work_accident','promotion_last_5years','sales_val','salary_val' ], axis=1)\n",
    "df_train2.head()\n",
    "df_train.head()"
   ]
  },
  {
   "cell_type": "code",
   "execution_count": 4,
   "metadata": {},
   "outputs": [
    {
     "data": {
      "text/plain": [
       "array([[ 1.  ,  0.38,  0.53, ...,  0.  ,  7.  ,  0.  ],\n",
       "       [ 1.  ,  0.8 ,  0.86, ...,  0.  ,  7.  ,  1.  ],\n",
       "       [ 1.  ,  0.11,  0.88, ...,  0.  ,  7.  ,  1.  ],\n",
       "       ..., \n",
       "       [ 1.  ,  0.37,  0.53, ...,  0.  ,  8.  ,  0.  ],\n",
       "       [ 1.  ,  0.11,  0.96, ...,  0.  ,  8.  ,  0.  ],\n",
       "       [ 1.  ,  0.37,  0.52, ...,  0.  ,  8.  ,  0.  ]])"
      ]
     },
     "execution_count": 4,
     "metadata": {},
     "output_type": "execute_result"
    }
   ],
   "source": [
    "train_data = df_train.values\n",
    "train_data"
   ]
  },
  {
   "cell_type": "code",
   "execution_count": 5,
   "metadata": {},
   "outputs": [],
   "source": [
    "# Training data features, skip the first column 'left'\n",
    "train_features = train_data[:, 1:]\n",
    "\n",
    "# 'left' column values\n",
    "train_target = train_data[:, 0]"
   ]
  },
  {
   "cell_type": "code",
   "execution_count": 6,
   "metadata": {},
   "outputs": [],
   "source": [
    "# Fit the model to our training data\n",
    "clf = tree.DecisionTreeClassifier(criterion='gini', splitter='best', \n",
    "                                  max_depth=6, \n",
    "                                  min_samples_split=2, min_samples_leaf=20)\n",
    "clf = clf.fit(train_features, train_target)"
   ]
  },
  {
   "cell_type": "code",
   "execution_count": 7,
   "metadata": {},
   "outputs": [
    {
     "data": {
      "text/plain": [
       "array([  5.40892456e-01,   1.44909370e-01,   9.67208241e-02,\n",
       "         6.14946767e-02,   1.55636252e-01,   0.00000000e+00,\n",
       "         0.00000000e+00,   0.00000000e+00,   3.46421143e-04])"
      ]
     },
     "execution_count": 7,
     "metadata": {},
     "output_type": "execute_result"
    }
   ],
   "source": [
    "clf.feature_importances_"
   ]
  },
  {
   "cell_type": "code",
   "execution_count": 8,
   "metadata": {},
   "outputs": [
    {
     "name": "stdout",
     "output_type": "stream",
     "text": [
      "0.974461560175\n",
      "0.974264950997\n",
      "0.9739068247\n",
      "0.974264950997\n",
      "(array([ 0.97188034,  0.98272204]), array([ 0.99501225,  0.90786894]), array([ 0.98331027,  0.94381368]), array([11428,  3571], dtype=int64))\n"
     ]
    }
   ],
   "source": [
    "pred_target = clf.predict(train_features)\n",
    "\n",
    "print (metrics.precision_score(train_target, pred_target, average='weighted'))\n",
    "print (metrics.recall_score(train_target, pred_target, average='weighted'))\n",
    "print (metrics.f1_score(train_target, pred_target, average='weighted'))\n",
    "print (metrics.accuracy_score(train_target, pred_target))\n",
    "print (metrics.precision_recall_fscore_support(train_target, pred_target))"
   ]
  },
  {
   "cell_type": "code",
   "execution_count": 9,
   "metadata": {},
   "outputs": [],
   "source": [
    "# Train Test Partitioning\n",
    "# test n.1\n",
    "train_x, test_x, train_y, test_y = train_test_split(train_features, \n",
    "                                                    train_target, \n",
    "                                                    test_size=0.20, \n",
    "                                                    random_state=0)"
   ]
  },
  {
   "cell_type": "code",
   "execution_count": 10,
   "metadata": {},
   "outputs": [
    {
     "name": "stdout",
     "output_type": "stream",
     "text": [
      "Accuracy: 0.97 (+/- 0.00)\n"
     ]
    }
   ],
   "source": [
    "# Cross Validation\n",
    "scores = cross_validation.cross_val_score(clf, \n",
    "                                          train_features, train_target, \n",
    "                                          cv=10)\n",
    "print ('Accuracy: %0.2f (+/- %0.2f)' % (scores.mean(), scores.std() * 2))"
   ]
  },
  {
   "cell_type": "code",
   "execution_count": 11,
   "metadata": {},
   "outputs": [
    {
     "data": {
      "text/plain": [
       "((11999, 9), (3000, 9))"
      ]
     },
     "execution_count": 11,
     "metadata": {},
     "output_type": "execute_result"
    }
   ],
   "source": [
    "train_x.shape, test_x.shape"
   ]
  },
  {
   "cell_type": "code",
   "execution_count": 12,
   "metadata": {},
   "outputs": [],
   "source": [
    "# overfitting\n",
    "clf = tree.DecisionTreeClassifier(criterion='gini', splitter='best', \n",
    "                                  max_depth=4, \n",
    "                                  min_samples_split=2, min_samples_leaf=300)\n",
    "clf = clf.fit(train_x, train_y)"
   ]
  },
  {
   "cell_type": "code",
   "execution_count": 13,
   "metadata": {},
   "outputs": [
    {
     "data": {
      "text/plain": [
       "(11999, 3000, 14999)"
      ]
     },
     "execution_count": 13,
     "metadata": {},
     "output_type": "execute_result"
    }
   ],
   "source": [
    "len(train_x), len(test_x), len(train_x) + len(test_x)"
   ]
  },
  {
   "cell_type": "code",
   "execution_count": 14,
   "metadata": {},
   "outputs": [],
   "source": [
    "train_pred = clf.predict(train_x)\n",
    "test_pred = clf.predict(test_x)"
   ]
  },
  {
   "cell_type": "code",
   "execution_count": 15,
   "metadata": {},
   "outputs": [
    {
     "name": "stdout",
     "output_type": "stream",
     "text": [
      "0.947495624635\n",
      "0.953333333333\n"
     ]
    }
   ],
   "source": [
    "# Accuracy Evaluation\n",
    "print (metrics.accuracy_score(train_y, train_pred))\n",
    "print (metrics.accuracy_score(test_y, test_pred))"
   ]
  },
  {
   "cell_type": "code",
   "execution_count": 16,
   "metadata": {
    "scrolled": true
   },
   "outputs": [
    {
     "data": {
      "image/svg+xml": [
       "<?xml version=\"1.0\" encoding=\"UTF-8\" standalone=\"no\"?>\r\n",
       "<!DOCTYPE svg PUBLIC \"-//W3C//DTD SVG 1.1//EN\"\r\n",
       " \"http://www.w3.org/Graphics/SVG/1.1/DTD/svg11.dtd\">\r\n",
       "<!-- Generated by graphviz version 2.38.0 (20140413.2041)\r\n",
       " -->\r\n",
       "<!-- Title: Tree Pages: 1 -->\r\n",
       "<svg width=\"1823pt\" height=\"552pt\"\r\n",
       " viewBox=\"0.00 0.00 1823.00 552.00\" xmlns=\"http://www.w3.org/2000/svg\" xmlns:xlink=\"http://www.w3.org/1999/xlink\">\r\n",
       "<g id=\"graph0\" class=\"graph\" transform=\"scale(1 1) rotate(0) translate(4 548)\">\r\n",
       "<title>Tree</title>\r\n",
       "<polygon fill=\"white\" stroke=\"none\" points=\"-4,4 -4,-548 1819,-548 1819,4 -4,4\"/>\r\n",
       "<!-- 0 -->\r\n",
       "<g id=\"node1\" class=\"node\"><title>0</title>\r\n",
       "<path fill=\"#e58139\" fill-opacity=\"0.686275\" stroke=\"black\" d=\"M841.5,-544C841.5,-544 688.5,-544 688.5,-544 682.5,-544 676.5,-538 676.5,-532 676.5,-532 676.5,-473 676.5,-473 676.5,-467 682.5,-461 688.5,-461 688.5,-461 841.5,-461 841.5,-461 847.5,-461 853.5,-467 853.5,-473 853.5,-473 853.5,-532 853.5,-532 853.5,-538 847.5,-544 841.5,-544\"/>\r\n",
       "<text text-anchor=\"start\" x=\"684.5\" y=\"-528.8\" font-family=\"Helvetica,sans-Serif\" font-size=\"14.00\">satisfaction_level ≤ 0.465</text>\r\n",
       "<text text-anchor=\"start\" x=\"727.5\" y=\"-513.8\" font-family=\"Helvetica,sans-Serif\" font-size=\"14.00\">gini = 0.364</text>\r\n",
       "<text text-anchor=\"start\" x=\"709\" y=\"-498.8\" font-family=\"Helvetica,sans-Serif\" font-size=\"14.00\">samples = 11999</text>\r\n",
       "<text text-anchor=\"start\" x=\"700\" y=\"-483.8\" font-family=\"Helvetica,sans-Serif\" font-size=\"14.00\">value = [9129, 2870]</text>\r\n",
       "<text text-anchor=\"start\" x=\"715\" y=\"-468.8\" font-family=\"Helvetica,sans-Serif\" font-size=\"14.00\">class = Not Left</text>\r\n",
       "</g>\r\n",
       "<!-- 1 -->\r\n",
       "<g id=\"node2\" class=\"node\"><title>1</title>\r\n",
       "<path fill=\"#399de5\" fill-opacity=\"0.352941\" stroke=\"black\" d=\"M634,-425C634,-425 506,-425 506,-425 500,-425 494,-419 494,-413 494,-413 494,-354 494,-354 494,-348 500,-342 506,-342 506,-342 634,-342 634,-342 640,-342 646,-348 646,-354 646,-354 646,-413 646,-413 646,-419 640,-425 634,-425\"/>\r\n",
       "<text text-anchor=\"start\" x=\"502\" y=\"-409.8\" font-family=\"Helvetica,sans-Serif\" font-size=\"14.00\">number_project ≤ 2.5</text>\r\n",
       "<text text-anchor=\"start\" x=\"532.5\" y=\"-394.8\" font-family=\"Helvetica,sans-Serif\" font-size=\"14.00\">gini = 0.477</text>\r\n",
       "<text text-anchor=\"start\" x=\"518.5\" y=\"-379.8\" font-family=\"Helvetica,sans-Serif\" font-size=\"14.00\">samples = 3344</text>\r\n",
       "<text text-anchor=\"start\" x=\"505\" y=\"-364.8\" font-family=\"Helvetica,sans-Serif\" font-size=\"14.00\">value = [1313, 2031]</text>\r\n",
       "<text text-anchor=\"start\" x=\"533\" y=\"-349.8\" font-family=\"Helvetica,sans-Serif\" font-size=\"14.00\">class = Left</text>\r\n",
       "</g>\r\n",
       "<!-- 0&#45;&gt;1 -->\r\n",
       "<g id=\"edge1\" class=\"edge\"><title>0&#45;&gt;1</title>\r\n",
       "<path fill=\"none\" stroke=\"black\" d=\"M697.346,-460.907C680.859,-451.016 663.113,-440.368 646.257,-430.254\"/>\r\n",
       "<polygon fill=\"black\" stroke=\"black\" points=\"647.91,-427.165 637.535,-425.021 644.309,-433.167 647.91,-427.165\"/>\r\n",
       "<text text-anchor=\"middle\" x=\"643.598\" y=\"-445.574\" font-family=\"Helvetica,sans-Serif\" font-size=\"14.00\">True</text>\r\n",
       "</g>\r\n",
       "<!-- 12 -->\r\n",
       "<g id=\"node13\" class=\"node\"><title>12</title>\r\n",
       "<path fill=\"#e58139\" fill-opacity=\"0.894118\" stroke=\"black\" d=\"M1063.5,-425C1063.5,-425 894.5,-425 894.5,-425 888.5,-425 882.5,-419 882.5,-413 882.5,-413 882.5,-354 882.5,-354 882.5,-348 888.5,-342 894.5,-342 894.5,-342 1063.5,-342 1063.5,-342 1069.5,-342 1075.5,-348 1075.5,-354 1075.5,-354 1075.5,-413 1075.5,-413 1075.5,-419 1069.5,-425 1063.5,-425\"/>\r\n",
       "<text text-anchor=\"start\" x=\"890.5\" y=\"-409.8\" font-family=\"Helvetica,sans-Serif\" font-size=\"14.00\">time_spend_company ≤ 4.5</text>\r\n",
       "<text text-anchor=\"start\" x=\"941.5\" y=\"-394.8\" font-family=\"Helvetica,sans-Serif\" font-size=\"14.00\">gini = 0.175</text>\r\n",
       "<text text-anchor=\"start\" x=\"927.5\" y=\"-379.8\" font-family=\"Helvetica,sans-Serif\" font-size=\"14.00\">samples = 8655</text>\r\n",
       "<text text-anchor=\"start\" x=\"918\" y=\"-364.8\" font-family=\"Helvetica,sans-Serif\" font-size=\"14.00\">value = [7816, 839]</text>\r\n",
       "<text text-anchor=\"start\" x=\"929\" y=\"-349.8\" font-family=\"Helvetica,sans-Serif\" font-size=\"14.00\">class = Not Left</text>\r\n",
       "</g>\r\n",
       "<!-- 0&#45;&gt;12 -->\r\n",
       "<g id=\"edge12\" class=\"edge\"><title>0&#45;&gt;12</title>\r\n",
       "<path fill=\"none\" stroke=\"black\" d=\"M839.246,-460.907C857.588,-450.879 877.351,-440.075 896.076,-429.837\"/>\r\n",
       "<polygon fill=\"black\" stroke=\"black\" points=\"897.79,-432.889 904.885,-425.021 894.432,-426.747 897.79,-432.889\"/>\r\n",
       "<text text-anchor=\"middle\" x=\"897.854\" y=\"-445.312\" font-family=\"Helvetica,sans-Serif\" font-size=\"14.00\">False</text>\r\n",
       "</g>\r\n",
       "<!-- 2 -->\r\n",
       "<g id=\"node3\" class=\"node\"><title>2</title>\r\n",
       "<path fill=\"#399de5\" fill-opacity=\"0.854902\" stroke=\"black\" d=\"M397,-306C397,-306 209,-306 209,-306 203,-306 197,-300 197,-294 197,-294 197,-235 197,-235 197,-229 203,-223 209,-223 209,-223 397,-223 397,-223 403,-223 409,-229 409,-235 409,-235 409,-294 409,-294 409,-300 403,-306 397,-306\"/>\r\n",
       "<text text-anchor=\"start\" x=\"205\" y=\"-290.8\" font-family=\"Helvetica,sans-Serif\" font-size=\"14.00\">average_montly_hours ≤ 155.5</text>\r\n",
       "<text text-anchor=\"start\" x=\"265.5\" y=\"-275.8\" font-family=\"Helvetica,sans-Serif\" font-size=\"14.00\">gini = 0.224</text>\r\n",
       "<text text-anchor=\"start\" x=\"251.5\" y=\"-260.8\" font-family=\"Helvetica,sans-Serif\" font-size=\"14.00\">samples = 1404</text>\r\n",
       "<text text-anchor=\"start\" x=\"242\" y=\"-245.8\" font-family=\"Helvetica,sans-Serif\" font-size=\"14.00\">value = [180, 1224]</text>\r\n",
       "<text text-anchor=\"start\" x=\"266\" y=\"-230.8\" font-family=\"Helvetica,sans-Serif\" font-size=\"14.00\">class = Left</text>\r\n",
       "</g>\r\n",
       "<!-- 1&#45;&gt;2 -->\r\n",
       "<g id=\"edge2\" class=\"edge\"><title>1&#45;&gt;2</title>\r\n",
       "<path fill=\"none\" stroke=\"black\" d=\"M493.846,-349.129C466.307,-337.062 434.749,-323.233 405.33,-310.341\"/>\r\n",
       "<polygon fill=\"black\" stroke=\"black\" points=\"406.425,-307 395.861,-306.192 403.615,-313.411 406.425,-307\"/>\r\n",
       "</g>\r\n",
       "<!-- 7 -->\r\n",
       "<g id=\"node8\" class=\"node\"><title>7</title>\r\n",
       "<path fill=\"#e58139\" fill-opacity=\"0.286275\" stroke=\"black\" d=\"M646.5,-306C646.5,-306 493.5,-306 493.5,-306 487.5,-306 481.5,-300 481.5,-294 481.5,-294 481.5,-235 481.5,-235 481.5,-229 487.5,-223 493.5,-223 493.5,-223 646.5,-223 646.5,-223 652.5,-223 658.5,-229 658.5,-235 658.5,-235 658.5,-294 658.5,-294 658.5,-300 652.5,-306 646.5,-306\"/>\r\n",
       "<text text-anchor=\"start\" x=\"489.5\" y=\"-290.8\" font-family=\"Helvetica,sans-Serif\" font-size=\"14.00\">satisfaction_level ≤ 0.115</text>\r\n",
       "<text text-anchor=\"start\" x=\"532.5\" y=\"-275.8\" font-family=\"Helvetica,sans-Serif\" font-size=\"14.00\">gini = 0.486</text>\r\n",
       "<text text-anchor=\"start\" x=\"518.5\" y=\"-260.8\" font-family=\"Helvetica,sans-Serif\" font-size=\"14.00\">samples = 1940</text>\r\n",
       "<text text-anchor=\"start\" x=\"509\" y=\"-245.8\" font-family=\"Helvetica,sans-Serif\" font-size=\"14.00\">value = [1133, 807]</text>\r\n",
       "<text text-anchor=\"start\" x=\"520\" y=\"-230.8\" font-family=\"Helvetica,sans-Serif\" font-size=\"14.00\">class = Not Left</text>\r\n",
       "</g>\r\n",
       "<!-- 1&#45;&gt;7 -->\r\n",
       "<g id=\"edge7\" class=\"edge\"><title>1&#45;&gt;7</title>\r\n",
       "<path fill=\"none\" stroke=\"black\" d=\"M570,-341.907C570,-333.649 570,-324.864 570,-316.302\"/>\r\n",
       "<polygon fill=\"black\" stroke=\"black\" points=\"573.5,-316.021 570,-306.021 566.5,-316.021 573.5,-316.021\"/>\r\n",
       "</g>\r\n",
       "<!-- 3 -->\r\n",
       "<g id=\"node4\" class=\"node\"><title>3</title>\r\n",
       "<path fill=\"#399de5\" fill-opacity=\"0.929412\" stroke=\"black\" d=\"M207.5,-187C207.5,-187 54.5,-187 54.5,-187 48.5,-187 42.5,-181 42.5,-175 42.5,-175 42.5,-116 42.5,-116 42.5,-110 48.5,-104 54.5,-104 54.5,-104 207.5,-104 207.5,-104 213.5,-104 219.5,-110 219.5,-116 219.5,-116 219.5,-175 219.5,-175 219.5,-181 213.5,-187 207.5,-187\"/>\r\n",
       "<text text-anchor=\"start\" x=\"50.5\" y=\"-171.8\" font-family=\"Helvetica,sans-Serif\" font-size=\"14.00\">satisfaction_level ≤ 0.385</text>\r\n",
       "<text text-anchor=\"start\" x=\"93.5\" y=\"-156.8\" font-family=\"Helvetica,sans-Serif\" font-size=\"14.00\">gini = 0.125</text>\r\n",
       "<text text-anchor=\"start\" x=\"79.5\" y=\"-141.8\" font-family=\"Helvetica,sans-Serif\" font-size=\"14.00\">samples = 1091</text>\r\n",
       "<text text-anchor=\"start\" x=\"74\" y=\"-126.8\" font-family=\"Helvetica,sans-Serif\" font-size=\"14.00\">value = [73, 1018]</text>\r\n",
       "<text text-anchor=\"start\" x=\"94\" y=\"-111.8\" font-family=\"Helvetica,sans-Serif\" font-size=\"14.00\">class = Left</text>\r\n",
       "</g>\r\n",
       "<!-- 2&#45;&gt;3 -->\r\n",
       "<g id=\"edge3\" class=\"edge\"><title>2&#45;&gt;3</title>\r\n",
       "<path fill=\"none\" stroke=\"black\" d=\"M243.325,-222.907C229.05,-213.197 213.704,-202.758 199.082,-192.811\"/>\r\n",
       "<polygon fill=\"black\" stroke=\"black\" points=\"200.806,-189.751 190.569,-187.021 196.869,-195.539 200.806,-189.751\"/>\r\n",
       "</g>\r\n",
       "<!-- 6 -->\r\n",
       "<g id=\"node7\" class=\"node\"><title>6</title>\r\n",
       "<path fill=\"#399de5\" fill-opacity=\"0.482353\" stroke=\"black\" d=\"M356,-179.5C356,-179.5 250,-179.5 250,-179.5 244,-179.5 238,-173.5 238,-167.5 238,-167.5 238,-123.5 238,-123.5 238,-117.5 244,-111.5 250,-111.5 250,-111.5 356,-111.5 356,-111.5 362,-111.5 368,-117.5 368,-123.5 368,-123.5 368,-167.5 368,-167.5 368,-173.5 362,-179.5 356,-179.5\"/>\r\n",
       "<text text-anchor=\"start\" x=\"269.5\" y=\"-164.3\" font-family=\"Helvetica,sans-Serif\" font-size=\"14.00\">gini = 0.45</text>\r\n",
       "<text text-anchor=\"start\" x=\"255.5\" y=\"-149.3\" font-family=\"Helvetica,sans-Serif\" font-size=\"14.00\">samples = 313</text>\r\n",
       "<text text-anchor=\"start\" x=\"246\" y=\"-134.3\" font-family=\"Helvetica,sans-Serif\" font-size=\"14.00\">value = [107, 206]</text>\r\n",
       "<text text-anchor=\"start\" x=\"266\" y=\"-119.3\" font-family=\"Helvetica,sans-Serif\" font-size=\"14.00\">class = Left</text>\r\n",
       "</g>\r\n",
       "<!-- 2&#45;&gt;6 -->\r\n",
       "<g id=\"edge6\" class=\"edge\"><title>2&#45;&gt;6</title>\r\n",
       "<path fill=\"none\" stroke=\"black\" d=\"M303,-222.907C303,-212.204 303,-200.615 303,-189.776\"/>\r\n",
       "<polygon fill=\"black\" stroke=\"black\" points=\"306.5,-189.667 303,-179.667 299.5,-189.667 306.5,-189.667\"/>\r\n",
       "</g>\r\n",
       "<!-- 4 -->\r\n",
       "<g id=\"node5\" class=\"node\"><title>4</title>\r\n",
       "<path fill=\"#399de5\" fill-opacity=\"0.839216\" stroke=\"black\" d=\"M110,-68C110,-68 12,-68 12,-68 6,-68 7.10543e-015,-62 7.10543e-015,-56 7.10543e-015,-56 7.10543e-015,-12 7.10543e-015,-12 7.10543e-015,-6 6,-0 12,-0 12,-0 110,-0 110,-0 116,-0 122,-6 122,-12 122,-12 122,-56 122,-56 122,-62 116,-68 110,-68\"/>\r\n",
       "<text text-anchor=\"start\" x=\"23.5\" y=\"-52.8\" font-family=\"Helvetica,sans-Serif\" font-size=\"14.00\">gini = 0.237</text>\r\n",
       "<text text-anchor=\"start\" x=\"13.5\" y=\"-37.8\" font-family=\"Helvetica,sans-Serif\" font-size=\"14.00\">samples = 328</text>\r\n",
       "<text text-anchor=\"start\" x=\"8\" y=\"-22.8\" font-family=\"Helvetica,sans-Serif\" font-size=\"14.00\">value = [45, 283]</text>\r\n",
       "<text text-anchor=\"start\" x=\"24\" y=\"-7.8\" font-family=\"Helvetica,sans-Serif\" font-size=\"14.00\">class = Left</text>\r\n",
       "</g>\r\n",
       "<!-- 3&#45;&gt;4 -->\r\n",
       "<g id=\"edge4\" class=\"edge\"><title>3&#45;&gt;4</title>\r\n",
       "<path fill=\"none\" stroke=\"black\" d=\"M104.935,-103.726C99.3371,-94.9703 93.413,-85.7032 87.7886,-76.9051\"/>\r\n",
       "<polygon fill=\"black\" stroke=\"black\" points=\"90.6226,-74.8399 82.2874,-68.2996 84.7247,-78.6103 90.6226,-74.8399\"/>\r\n",
       "</g>\r\n",
       "<!-- 5 -->\r\n",
       "<g id=\"node6\" class=\"node\"><title>5</title>\r\n",
       "<path fill=\"#399de5\" fill-opacity=\"0.960784\" stroke=\"black\" d=\"M250,-68C250,-68 152,-68 152,-68 146,-68 140,-62 140,-56 140,-56 140,-12 140,-12 140,-6 146,-0 152,-0 152,-0 250,-0 250,-0 256,-0 262,-6 262,-12 262,-12 262,-56 262,-56 262,-62 256,-68 250,-68\"/>\r\n",
       "<text text-anchor=\"start\" x=\"163.5\" y=\"-52.8\" font-family=\"Helvetica,sans-Serif\" font-size=\"14.00\">gini = 0.071</text>\r\n",
       "<text text-anchor=\"start\" x=\"153.5\" y=\"-37.8\" font-family=\"Helvetica,sans-Serif\" font-size=\"14.00\">samples = 763</text>\r\n",
       "<text text-anchor=\"start\" x=\"148\" y=\"-22.8\" font-family=\"Helvetica,sans-Serif\" font-size=\"14.00\">value = [28, 735]</text>\r\n",
       "<text text-anchor=\"start\" x=\"164\" y=\"-7.8\" font-family=\"Helvetica,sans-Serif\" font-size=\"14.00\">class = Left</text>\r\n",
       "</g>\r\n",
       "<!-- 3&#45;&gt;5 -->\r\n",
       "<g id=\"edge5\" class=\"edge\"><title>3&#45;&gt;5</title>\r\n",
       "<path fill=\"none\" stroke=\"black\" d=\"M157.065,-103.726C162.663,-94.9703 168.587,-85.7032 174.211,-76.9051\"/>\r\n",
       "<polygon fill=\"black\" stroke=\"black\" points=\"177.275,-78.6103 179.713,-68.2996 171.377,-74.8399 177.275,-78.6103\"/>\r\n",
       "</g>\r\n",
       "<!-- 8 -->\r\n",
       "<g id=\"node9\" class=\"node\"><title>8</title>\r\n",
       "<path fill=\"#399de5\" stroke=\"black\" d=\"M487.5,-179.5C487.5,-179.5 398.5,-179.5 398.5,-179.5 392.5,-179.5 386.5,-173.5 386.5,-167.5 386.5,-167.5 386.5,-123.5 386.5,-123.5 386.5,-117.5 392.5,-111.5 398.5,-111.5 398.5,-111.5 487.5,-111.5 487.5,-111.5 493.5,-111.5 499.5,-117.5 499.5,-123.5 499.5,-123.5 499.5,-167.5 499.5,-167.5 499.5,-173.5 493.5,-179.5 487.5,-179.5\"/>\r\n",
       "<text text-anchor=\"start\" x=\"414\" y=\"-164.3\" font-family=\"Helvetica,sans-Serif\" font-size=\"14.00\">gini = 0.0</text>\r\n",
       "<text text-anchor=\"start\" x=\"395.5\" y=\"-149.3\" font-family=\"Helvetica,sans-Serif\" font-size=\"14.00\">samples = 710</text>\r\n",
       "<text text-anchor=\"start\" x=\"394.5\" y=\"-134.3\" font-family=\"Helvetica,sans-Serif\" font-size=\"14.00\">value = [0, 710]</text>\r\n",
       "<text text-anchor=\"start\" x=\"406\" y=\"-119.3\" font-family=\"Helvetica,sans-Serif\" font-size=\"14.00\">class = Left</text>\r\n",
       "</g>\r\n",
       "<!-- 7&#45;&gt;8 -->\r\n",
       "<g id=\"edge8\" class=\"edge\"><title>7&#45;&gt;8</title>\r\n",
       "<path fill=\"none\" stroke=\"black\" d=\"M525.938,-222.907C513.122,-211.101 499.137,-198.217 486.364,-186.45\"/>\r\n",
       "<polygon fill=\"black\" stroke=\"black\" points=\"488.728,-183.868 479.002,-179.667 483.985,-189.017 488.728,-183.868\"/>\r\n",
       "</g>\r\n",
       "<!-- 9 -->\r\n",
       "<g id=\"node10\" class=\"node\"><title>9</title>\r\n",
       "<path fill=\"#e58139\" fill-opacity=\"0.913725\" stroke=\"black\" d=\"M718,-187C718,-187 530,-187 530,-187 524,-187 518,-181 518,-175 518,-175 518,-116 518,-116 518,-110 524,-104 530,-104 530,-104 718,-104 718,-104 724,-104 730,-110 730,-116 730,-116 730,-175 730,-175 730,-181 724,-187 718,-187\"/>\r\n",
       "<text text-anchor=\"start\" x=\"526\" y=\"-171.8\" font-family=\"Helvetica,sans-Serif\" font-size=\"14.00\">average_montly_hours ≤ 191.5</text>\r\n",
       "<text text-anchor=\"start\" x=\"586.5\" y=\"-156.8\" font-family=\"Helvetica,sans-Serif\" font-size=\"14.00\">gini = 0.145</text>\r\n",
       "<text text-anchor=\"start\" x=\"572.5\" y=\"-141.8\" font-family=\"Helvetica,sans-Serif\" font-size=\"14.00\">samples = 1230</text>\r\n",
       "<text text-anchor=\"start\" x=\"567\" y=\"-126.8\" font-family=\"Helvetica,sans-Serif\" font-size=\"14.00\">value = [1133, 97]</text>\r\n",
       "<text text-anchor=\"start\" x=\"574\" y=\"-111.8\" font-family=\"Helvetica,sans-Serif\" font-size=\"14.00\">class = Not Left</text>\r\n",
       "</g>\r\n",
       "<!-- 7&#45;&gt;9 -->\r\n",
       "<g id=\"edge9\" class=\"edge\"><title>7&#45;&gt;9</title>\r\n",
       "<path fill=\"none\" stroke=\"black\" d=\"M588.735,-222.907C592.714,-214.286 596.958,-205.09 601.073,-196.175\"/>\r\n",
       "<polygon fill=\"black\" stroke=\"black\" points=\"604.285,-197.567 605.298,-187.021 597.93,-194.634 604.285,-197.567\"/>\r\n",
       "</g>\r\n",
       "<!-- 10 -->\r\n",
       "<g id=\"node11\" class=\"node\"><title>10</title>\r\n",
       "<path fill=\"#e58139\" fill-opacity=\"0.941176\" stroke=\"black\" d=\"M533,-68C533,-68 435,-68 435,-68 429,-68 423,-62 423,-56 423,-56 423,-12 423,-12 423,-6 429,-0 435,-0 435,-0 533,-0 533,-0 539,-0 545,-6 545,-12 545,-12 545,-56 545,-56 545,-62 539,-68 533,-68\"/>\r\n",
       "<text text-anchor=\"start\" x=\"446.5\" y=\"-52.8\" font-family=\"Helvetica,sans-Serif\" font-size=\"14.00\">gini = 0.103</text>\r\n",
       "<text text-anchor=\"start\" x=\"436.5\" y=\"-37.8\" font-family=\"Helvetica,sans-Serif\" font-size=\"14.00\">samples = 627</text>\r\n",
       "<text text-anchor=\"start\" x=\"431\" y=\"-22.8\" font-family=\"Helvetica,sans-Serif\" font-size=\"14.00\">value = [593, 34]</text>\r\n",
       "<text text-anchor=\"start\" x=\"434\" y=\"-7.8\" font-family=\"Helvetica,sans-Serif\" font-size=\"14.00\">class = Not Left</text>\r\n",
       "</g>\r\n",
       "<!-- 9&#45;&gt;10 -->\r\n",
       "<g id=\"edge10\" class=\"edge\"><title>9&#45;&gt;10</title>\r\n",
       "<path fill=\"none\" stroke=\"black\" d=\"M571.869,-103.726C559.741,-94.2406 546.847,-84.1551 534.778,-74.7159\"/>\r\n",
       "<polygon fill=\"black\" stroke=\"black\" points=\"536.608,-71.7035 526.575,-68.2996 532.295,-77.2173 536.608,-71.7035\"/>\r\n",
       "</g>\r\n",
       "<!-- 11 -->\r\n",
       "<g id=\"node12\" class=\"node\"><title>11</title>\r\n",
       "<path fill=\"#e58139\" fill-opacity=\"0.882353\" stroke=\"black\" d=\"M673,-68C673,-68 575,-68 575,-68 569,-68 563,-62 563,-56 563,-56 563,-12 563,-12 563,-6 569,-0 575,-0 575,-0 673,-0 673,-0 679,-0 685,-6 685,-12 685,-12 685,-56 685,-56 685,-62 679,-68 673,-68\"/>\r\n",
       "<text text-anchor=\"start\" x=\"586.5\" y=\"-52.8\" font-family=\"Helvetica,sans-Serif\" font-size=\"14.00\">gini = 0.187</text>\r\n",
       "<text text-anchor=\"start\" x=\"576.5\" y=\"-37.8\" font-family=\"Helvetica,sans-Serif\" font-size=\"14.00\">samples = 603</text>\r\n",
       "<text text-anchor=\"start\" x=\"571\" y=\"-22.8\" font-family=\"Helvetica,sans-Serif\" font-size=\"14.00\">value = [540, 63]</text>\r\n",
       "<text text-anchor=\"start\" x=\"574\" y=\"-7.8\" font-family=\"Helvetica,sans-Serif\" font-size=\"14.00\">class = Not Left</text>\r\n",
       "</g>\r\n",
       "<!-- 9&#45;&gt;11 -->\r\n",
       "<g id=\"edge11\" class=\"edge\"><title>9&#45;&gt;11</title>\r\n",
       "<path fill=\"none\" stroke=\"black\" d=\"M624,-103.726C624,-95.5175 624,-86.8595 624,-78.56\"/>\r\n",
       "<polygon fill=\"black\" stroke=\"black\" points=\"627.5,-78.2996 624,-68.2996 620.5,-78.2996 627.5,-78.2996\"/>\r\n",
       "</g>\r\n",
       "<!-- 13 -->\r\n",
       "<g id=\"node14\" class=\"node\"><title>13</title>\r\n",
       "<path fill=\"#e58139\" fill-opacity=\"0.984314\" stroke=\"black\" d=\"M1063.5,-306C1063.5,-306 894.5,-306 894.5,-306 888.5,-306 882.5,-300 882.5,-294 882.5,-294 882.5,-235 882.5,-235 882.5,-229 888.5,-223 894.5,-223 894.5,-223 1063.5,-223 1063.5,-223 1069.5,-223 1075.5,-229 1075.5,-235 1075.5,-235 1075.5,-294 1075.5,-294 1075.5,-300 1069.5,-306 1063.5,-306\"/>\r\n",
       "<text text-anchor=\"start\" x=\"890.5\" y=\"-290.8\" font-family=\"Helvetica,sans-Serif\" font-size=\"14.00\">time_spend_company ≤ 3.5</text>\r\n",
       "<text text-anchor=\"start\" x=\"945.5\" y=\"-275.8\" font-family=\"Helvetica,sans-Serif\" font-size=\"14.00\">gini = 0.03</text>\r\n",
       "<text text-anchor=\"start\" x=\"927.5\" y=\"-260.8\" font-family=\"Helvetica,sans-Serif\" font-size=\"14.00\">samples = 7076</text>\r\n",
       "<text text-anchor=\"start\" x=\"918\" y=\"-245.8\" font-family=\"Helvetica,sans-Serif\" font-size=\"14.00\">value = [6970, 106]</text>\r\n",
       "<text text-anchor=\"start\" x=\"929\" y=\"-230.8\" font-family=\"Helvetica,sans-Serif\" font-size=\"14.00\">class = Not Left</text>\r\n",
       "</g>\r\n",
       "<!-- 12&#45;&gt;13 -->\r\n",
       "<g id=\"edge13\" class=\"edge\"><title>12&#45;&gt;13</title>\r\n",
       "<path fill=\"none\" stroke=\"black\" d=\"M979,-341.907C979,-333.649 979,-324.864 979,-316.302\"/>\r\n",
       "<polygon fill=\"black\" stroke=\"black\" points=\"982.5,-316.021 979,-306.021 975.5,-316.021 982.5,-316.021\"/>\r\n",
       "</g>\r\n",
       "<!-- 20 -->\r\n",
       "<g id=\"node21\" class=\"node\"><title>20</title>\r\n",
       "<path fill=\"#e58139\" fill-opacity=\"0.133333\" stroke=\"black\" d=\"M1423.5,-306C1423.5,-306 1286.5,-306 1286.5,-306 1280.5,-306 1274.5,-300 1274.5,-294 1274.5,-294 1274.5,-235 1274.5,-235 1274.5,-229 1280.5,-223 1286.5,-223 1286.5,-223 1423.5,-223 1423.5,-223 1429.5,-223 1435.5,-229 1435.5,-235 1435.5,-235 1435.5,-294 1435.5,-294 1435.5,-300 1429.5,-306 1423.5,-306\"/>\r\n",
       "<text text-anchor=\"start\" x=\"1282.5\" y=\"-290.8\" font-family=\"Helvetica,sans-Serif\" font-size=\"14.00\">last_evaluation ≤ 0.815</text>\r\n",
       "<text text-anchor=\"start\" x=\"1317.5\" y=\"-275.8\" font-family=\"Helvetica,sans-Serif\" font-size=\"14.00\">gini = 0.497</text>\r\n",
       "<text text-anchor=\"start\" x=\"1303.5\" y=\"-260.8\" font-family=\"Helvetica,sans-Serif\" font-size=\"14.00\">samples = 1579</text>\r\n",
       "<text text-anchor=\"start\" x=\"1298\" y=\"-245.8\" font-family=\"Helvetica,sans-Serif\" font-size=\"14.00\">value = [846, 733]</text>\r\n",
       "<text text-anchor=\"start\" x=\"1305\" y=\"-230.8\" font-family=\"Helvetica,sans-Serif\" font-size=\"14.00\">class = Not Left</text>\r\n",
       "</g>\r\n",
       "<!-- 12&#45;&gt;20 -->\r\n",
       "<g id=\"edge20\" class=\"edge\"><title>12&#45;&gt;20</title>\r\n",
       "<path fill=\"none\" stroke=\"black\" d=\"M1075.83,-352.37C1134.04,-334.256 1207.64,-311.355 1264.65,-293.615\"/>\r\n",
       "<polygon fill=\"black\" stroke=\"black\" points=\"1265.86,-296.903 1274.37,-290.589 1263.78,-290.219 1265.86,-296.903\"/>\r\n",
       "</g>\r\n",
       "<!-- 14 -->\r\n",
       "<g id=\"node15\" class=\"node\"><title>14</title>\r\n",
       "<path fill=\"#e58139\" fill-opacity=\"0.988235\" stroke=\"black\" d=\"M952,-187C952,-187 824,-187 824,-187 818,-187 812,-181 812,-175 812,-175 812,-116 812,-116 812,-110 818,-104 824,-104 824,-104 952,-104 952,-104 958,-104 964,-110 964,-116 964,-116 964,-175 964,-175 964,-181 958,-187 952,-187\"/>\r\n",
       "<text text-anchor=\"start\" x=\"820\" y=\"-171.8\" font-family=\"Helvetica,sans-Serif\" font-size=\"14.00\">number_project ≤ 2.5</text>\r\n",
       "<text text-anchor=\"start\" x=\"854.5\" y=\"-156.8\" font-family=\"Helvetica,sans-Serif\" font-size=\"14.00\">gini = 0.02</text>\r\n",
       "<text text-anchor=\"start\" x=\"836.5\" y=\"-141.8\" font-family=\"Helvetica,sans-Serif\" font-size=\"14.00\">samples = 5942</text>\r\n",
       "<text text-anchor=\"start\" x=\"831\" y=\"-126.8\" font-family=\"Helvetica,sans-Serif\" font-size=\"14.00\">value = [5883, 59]</text>\r\n",
       "<text text-anchor=\"start\" x=\"838\" y=\"-111.8\" font-family=\"Helvetica,sans-Serif\" font-size=\"14.00\">class = Not Left</text>\r\n",
       "</g>\r\n",
       "<!-- 13&#45;&gt;14 -->\r\n",
       "<g id=\"edge14\" class=\"edge\"><title>13&#45;&gt;14</title>\r\n",
       "<path fill=\"none\" stroke=\"black\" d=\"M947.428,-222.907C940.44,-213.923 932.967,-204.315 925.761,-195.05\"/>\r\n",
       "<polygon fill=\"black\" stroke=\"black\" points=\"928.418,-192.766 919.516,-187.021 922.893,-197.063 928.418,-192.766\"/>\r\n",
       "</g>\r\n",
       "<!-- 17 -->\r\n",
       "<g id=\"node18\" class=\"node\"><title>17</title>\r\n",
       "<path fill=\"#e58139\" fill-opacity=\"0.956863\" stroke=\"black\" d=\"M1147.5,-187C1147.5,-187 994.5,-187 994.5,-187 988.5,-187 982.5,-181 982.5,-175 982.5,-175 982.5,-116 982.5,-116 982.5,-110 988.5,-104 994.5,-104 994.5,-104 1147.5,-104 1147.5,-104 1153.5,-104 1159.5,-110 1159.5,-116 1159.5,-116 1159.5,-175 1159.5,-175 1159.5,-181 1153.5,-187 1147.5,-187\"/>\r\n",
       "<text text-anchor=\"start\" x=\"990.5\" y=\"-171.8\" font-family=\"Helvetica,sans-Serif\" font-size=\"14.00\">satisfaction_level ≤ 0.845</text>\r\n",
       "<text text-anchor=\"start\" x=\"1033.5\" y=\"-156.8\" font-family=\"Helvetica,sans-Serif\" font-size=\"14.00\">gini = 0.079</text>\r\n",
       "<text text-anchor=\"start\" x=\"1019.5\" y=\"-141.8\" font-family=\"Helvetica,sans-Serif\" font-size=\"14.00\">samples = 1134</text>\r\n",
       "<text text-anchor=\"start\" x=\"1014\" y=\"-126.8\" font-family=\"Helvetica,sans-Serif\" font-size=\"14.00\">value = [1087, 47]</text>\r\n",
       "<text text-anchor=\"start\" x=\"1021\" y=\"-111.8\" font-family=\"Helvetica,sans-Serif\" font-size=\"14.00\">class = Not Left</text>\r\n",
       "</g>\r\n",
       "<!-- 13&#45;&gt;17 -->\r\n",
       "<g id=\"edge17\" class=\"edge\"><title>13&#45;&gt;17</title>\r\n",
       "<path fill=\"none\" stroke=\"black\" d=\"M1010.92,-222.907C1017.98,-213.923 1025.54,-204.315 1032.82,-195.05\"/>\r\n",
       "<polygon fill=\"black\" stroke=\"black\" points=\"1035.71,-197.045 1039.14,-187.021 1030.2,-192.718 1035.71,-197.045\"/>\r\n",
       "</g>\r\n",
       "<!-- 15 -->\r\n",
       "<g id=\"node16\" class=\"node\"><title>15</title>\r\n",
       "<path fill=\"#e58139\" fill-opacity=\"0.945098\" stroke=\"black\" d=\"M813,-68C813,-68 715,-68 715,-68 709,-68 703,-62 703,-56 703,-56 703,-12 703,-12 703,-6 709,-0 715,-0 715,-0 813,-0 813,-0 819,-0 825,-6 825,-12 825,-12 825,-56 825,-56 825,-62 819,-68 813,-68\"/>\r\n",
       "<text text-anchor=\"start\" x=\"726.5\" y=\"-52.8\" font-family=\"Helvetica,sans-Serif\" font-size=\"14.00\">gini = 0.099</text>\r\n",
       "<text text-anchor=\"start\" x=\"716.5\" y=\"-37.8\" font-family=\"Helvetica,sans-Serif\" font-size=\"14.00\">samples = 346</text>\r\n",
       "<text text-anchor=\"start\" x=\"711\" y=\"-22.8\" font-family=\"Helvetica,sans-Serif\" font-size=\"14.00\">value = [328, 18]</text>\r\n",
       "<text text-anchor=\"start\" x=\"714\" y=\"-7.8\" font-family=\"Helvetica,sans-Serif\" font-size=\"14.00\">class = Not Left</text>\r\n",
       "</g>\r\n",
       "<!-- 14&#45;&gt;15 -->\r\n",
       "<g id=\"edge15\" class=\"edge\"><title>14&#45;&gt;15</title>\r\n",
       "<path fill=\"none\" stroke=\"black\" d=\"M841.827,-103.726C831.189,-94.3318 819.884,-84.349 809.284,-74.9883\"/>\r\n",
       "<polygon fill=\"black\" stroke=\"black\" points=\"811.522,-72.2953 801.709,-68.2996 806.888,-77.5424 811.522,-72.2953\"/>\r\n",
       "</g>\r\n",
       "<!-- 16 -->\r\n",
       "<g id=\"node17\" class=\"node\"><title>16</title>\r\n",
       "<path fill=\"#e58139\" fill-opacity=\"0.992157\" stroke=\"black\" d=\"M961,-68C961,-68 855,-68 855,-68 849,-68 843,-62 843,-56 843,-56 843,-12 843,-12 843,-6 849,-0 855,-0 855,-0 961,-0 961,-0 967,-0 973,-6 973,-12 973,-12 973,-56 973,-56 973,-62 967,-68 961,-68\"/>\r\n",
       "<text text-anchor=\"start\" x=\"870.5\" y=\"-52.8\" font-family=\"Helvetica,sans-Serif\" font-size=\"14.00\">gini = 0.015</text>\r\n",
       "<text text-anchor=\"start\" x=\"856.5\" y=\"-37.8\" font-family=\"Helvetica,sans-Serif\" font-size=\"14.00\">samples = 5596</text>\r\n",
       "<text text-anchor=\"start\" x=\"851\" y=\"-22.8\" font-family=\"Helvetica,sans-Serif\" font-size=\"14.00\">value = [5555, 41]</text>\r\n",
       "<text text-anchor=\"start\" x=\"858\" y=\"-7.8\" font-family=\"Helvetica,sans-Serif\" font-size=\"14.00\">class = Not Left</text>\r\n",
       "</g>\r\n",
       "<!-- 14&#45;&gt;16 -->\r\n",
       "<g id=\"edge16\" class=\"edge\"><title>14&#45;&gt;16</title>\r\n",
       "<path fill=\"none\" stroke=\"black\" d=\"M895.447,-103.726C896.963,-95.4263 898.563,-86.6671 900.094,-78.2834\"/>\r\n",
       "<polygon fill=\"black\" stroke=\"black\" points=\"903.564,-78.7658 901.918,-68.2996 896.678,-77.508 903.564,-78.7658\"/>\r\n",
       "</g>\r\n",
       "<!-- 18 -->\r\n",
       "<g id=\"node19\" class=\"node\"><title>18</title>\r\n",
       "<path fill=\"#e58139\" fill-opacity=\"0.945098\" stroke=\"black\" d=\"M1101,-68C1101,-68 1003,-68 1003,-68 997,-68 991,-62 991,-56 991,-56 991,-12 991,-12 991,-6 997,-0 1003,-0 1003,-0 1101,-0 1101,-0 1107,-0 1113,-6 1113,-12 1113,-12 1113,-56 1113,-56 1113,-62 1107,-68 1101,-68\"/>\r\n",
       "<text text-anchor=\"start\" x=\"1014.5\" y=\"-52.8\" font-family=\"Helvetica,sans-Serif\" font-size=\"14.00\">gini = 0.101</text>\r\n",
       "<text text-anchor=\"start\" x=\"1004.5\" y=\"-37.8\" font-family=\"Helvetica,sans-Serif\" font-size=\"14.00\">samples = 803</text>\r\n",
       "<text text-anchor=\"start\" x=\"999\" y=\"-22.8\" font-family=\"Helvetica,sans-Serif\" font-size=\"14.00\">value = [760, 43]</text>\r\n",
       "<text text-anchor=\"start\" x=\"1002\" y=\"-7.8\" font-family=\"Helvetica,sans-Serif\" font-size=\"14.00\">class = Not Left</text>\r\n",
       "</g>\r\n",
       "<!-- 17&#45;&gt;18 -->\r\n",
       "<g id=\"edge18\" class=\"edge\"><title>17&#45;&gt;18</title>\r\n",
       "<path fill=\"none\" stroke=\"black\" d=\"M1063.93,-103.726C1062.48,-95.4263 1060.97,-86.6671 1059.51,-78.2834\"/>\r\n",
       "<polygon fill=\"black\" stroke=\"black\" points=\"1062.94,-77.554 1057.78,-68.2996 1056.04,-78.7508 1062.94,-77.554\"/>\r\n",
       "</g>\r\n",
       "<!-- 19 -->\r\n",
       "<g id=\"node20\" class=\"node\"><title>19</title>\r\n",
       "<path fill=\"#e58139\" fill-opacity=\"0.988235\" stroke=\"black\" d=\"M1235,-68C1235,-68 1143,-68 1143,-68 1137,-68 1131,-62 1131,-56 1131,-56 1131,-12 1131,-12 1131,-6 1137,-0 1143,-0 1143,-0 1235,-0 1235,-0 1241,-0 1247,-6 1247,-12 1247,-12 1247,-56 1247,-56 1247,-62 1241,-68 1235,-68\"/>\r\n",
       "<text text-anchor=\"start\" x=\"1151.5\" y=\"-52.8\" font-family=\"Helvetica,sans-Serif\" font-size=\"14.00\">gini = 0.024</text>\r\n",
       "<text text-anchor=\"start\" x=\"1141.5\" y=\"-37.8\" font-family=\"Helvetica,sans-Serif\" font-size=\"14.00\">samples = 331</text>\r\n",
       "<text text-anchor=\"start\" x=\"1140.5\" y=\"-22.8\" font-family=\"Helvetica,sans-Serif\" font-size=\"14.00\">value = [327, 4]</text>\r\n",
       "<text text-anchor=\"start\" x=\"1139\" y=\"-7.8\" font-family=\"Helvetica,sans-Serif\" font-size=\"14.00\">class = Not Left</text>\r\n",
       "</g>\r\n",
       "<!-- 17&#45;&gt;19 -->\r\n",
       "<g id=\"edge19\" class=\"edge\"><title>17&#45;&gt;19</title>\r\n",
       "<path fill=\"none\" stroke=\"black\" d=\"M1114.94,-103.726C1124.96,-94.423 1135.61,-84.5428 1145.61,-75.2612\"/>\r\n",
       "<polygon fill=\"black\" stroke=\"black\" points=\"1148.17,-77.6673 1153.12,-68.2996 1143.4,-72.5362 1148.17,-77.6673\"/>\r\n",
       "</g>\r\n",
       "<!-- 21 -->\r\n",
       "<g id=\"node22\" class=\"node\"><title>21</title>\r\n",
       "<path fill=\"#e58139\" fill-opacity=\"0.949020\" stroke=\"black\" d=\"M1449,-187C1449,-187 1261,-187 1261,-187 1255,-187 1249,-181 1249,-175 1249,-175 1249,-116 1249,-116 1249,-110 1255,-104 1261,-104 1261,-104 1449,-104 1449,-104 1455,-104 1461,-110 1461,-116 1461,-116 1461,-175 1461,-175 1461,-181 1455,-187 1449,-187\"/>\r\n",
       "<text text-anchor=\"start\" x=\"1257\" y=\"-171.8\" font-family=\"Helvetica,sans-Serif\" font-size=\"14.00\">average_montly_hours ≤ 197.5</text>\r\n",
       "<text text-anchor=\"start\" x=\"1317.5\" y=\"-156.8\" font-family=\"Helvetica,sans-Serif\" font-size=\"14.00\">gini = 0.091</text>\r\n",
       "<text text-anchor=\"start\" x=\"1307.5\" y=\"-141.8\" font-family=\"Helvetica,sans-Serif\" font-size=\"14.00\">samples = 609</text>\r\n",
       "<text text-anchor=\"start\" x=\"1302\" y=\"-126.8\" font-family=\"Helvetica,sans-Serif\" font-size=\"14.00\">value = [580, 29]</text>\r\n",
       "<text text-anchor=\"start\" x=\"1305\" y=\"-111.8\" font-family=\"Helvetica,sans-Serif\" font-size=\"14.00\">class = Not Left</text>\r\n",
       "</g>\r\n",
       "<!-- 20&#45;&gt;21 -->\r\n",
       "<g id=\"edge21\" class=\"edge\"><title>20&#45;&gt;21</title>\r\n",
       "<path fill=\"none\" stroke=\"black\" d=\"M1355,-222.907C1355,-214.649 1355,-205.864 1355,-197.302\"/>\r\n",
       "<polygon fill=\"black\" stroke=\"black\" points=\"1358.5,-197.021 1355,-187.021 1351.5,-197.021 1358.5,-197.021\"/>\r\n",
       "</g>\r\n",
       "<!-- 24 -->\r\n",
       "<g id=\"node25\" class=\"node\"><title>24</title>\r\n",
       "<path fill=\"#399de5\" fill-opacity=\"0.623529\" stroke=\"black\" d=\"M1690.5,-187C1690.5,-187 1521.5,-187 1521.5,-187 1515.5,-187 1509.5,-181 1509.5,-175 1509.5,-175 1509.5,-116 1509.5,-116 1509.5,-110 1515.5,-104 1521.5,-104 1521.5,-104 1690.5,-104 1690.5,-104 1696.5,-104 1702.5,-110 1702.5,-116 1702.5,-116 1702.5,-175 1702.5,-175 1702.5,-181 1696.5,-187 1690.5,-187\"/>\r\n",
       "<text text-anchor=\"start\" x=\"1517.5\" y=\"-171.8\" font-family=\"Helvetica,sans-Serif\" font-size=\"14.00\">time_spend_company ≤ 5.5</text>\r\n",
       "<text text-anchor=\"start\" x=\"1568.5\" y=\"-156.8\" font-family=\"Helvetica,sans-Serif\" font-size=\"14.00\">gini = 0.398</text>\r\n",
       "<text text-anchor=\"start\" x=\"1558.5\" y=\"-141.8\" font-family=\"Helvetica,sans-Serif\" font-size=\"14.00\">samples = 970</text>\r\n",
       "<text text-anchor=\"start\" x=\"1549\" y=\"-126.8\" font-family=\"Helvetica,sans-Serif\" font-size=\"14.00\">value = [266, 704]</text>\r\n",
       "<text text-anchor=\"start\" x=\"1569\" y=\"-111.8\" font-family=\"Helvetica,sans-Serif\" font-size=\"14.00\">class = Left</text>\r\n",
       "</g>\r\n",
       "<!-- 20&#45;&gt;24 -->\r\n",
       "<g id=\"edge24\" class=\"edge\"><title>20&#45;&gt;24</title>\r\n",
       "<path fill=\"none\" stroke=\"black\" d=\"M1435.8,-225.836C1459.31,-214.878 1485.23,-202.797 1509.59,-191.439\"/>\r\n",
       "<polygon fill=\"black\" stroke=\"black\" points=\"1511.26,-194.522 1518.85,-187.125 1508.31,-188.177 1511.26,-194.522\"/>\r\n",
       "</g>\r\n",
       "<!-- 22 -->\r\n",
       "<g id=\"node23\" class=\"node\"><title>22</title>\r\n",
       "<path fill=\"#e58139\" fill-opacity=\"0.964706\" stroke=\"black\" d=\"M1375,-68C1375,-68 1277,-68 1277,-68 1271,-68 1265,-62 1265,-56 1265,-56 1265,-12 1265,-12 1265,-6 1271,-0 1277,-0 1277,-0 1375,-0 1375,-0 1381,-0 1387,-6 1387,-12 1387,-12 1387,-56 1387,-56 1387,-62 1381,-68 1375,-68\"/>\r\n",
       "<text text-anchor=\"start\" x=\"1288.5\" y=\"-52.8\" font-family=\"Helvetica,sans-Serif\" font-size=\"14.00\">gini = 0.064</text>\r\n",
       "<text text-anchor=\"start\" x=\"1278.5\" y=\"-37.8\" font-family=\"Helvetica,sans-Serif\" font-size=\"14.00\">samples = 303</text>\r\n",
       "<text text-anchor=\"start\" x=\"1273\" y=\"-22.8\" font-family=\"Helvetica,sans-Serif\" font-size=\"14.00\">value = [293, 10]</text>\r\n",
       "<text text-anchor=\"start\" x=\"1276\" y=\"-7.8\" font-family=\"Helvetica,sans-Serif\" font-size=\"14.00\">class = Not Left</text>\r\n",
       "</g>\r\n",
       "<!-- 21&#45;&gt;22 -->\r\n",
       "<g id=\"edge22\" class=\"edge\"><title>21&#45;&gt;22</title>\r\n",
       "<path fill=\"none\" stroke=\"black\" d=\"M1344.2,-103.726C1341.98,-95.3351 1339.63,-86.4745 1337.39,-78.0072\"/>\r\n",
       "<polygon fill=\"black\" stroke=\"black\" points=\"1340.76,-77.0703 1334.82,-68.2996 1334,-78.8624 1340.76,-77.0703\"/>\r\n",
       "</g>\r\n",
       "<!-- 23 -->\r\n",
       "<g id=\"node24\" class=\"node\"><title>23</title>\r\n",
       "<path fill=\"#e58139\" fill-opacity=\"0.933333\" stroke=\"black\" d=\"M1515,-68C1515,-68 1417,-68 1417,-68 1411,-68 1405,-62 1405,-56 1405,-56 1405,-12 1405,-12 1405,-6 1411,-0 1417,-0 1417,-0 1515,-0 1515,-0 1521,-0 1527,-6 1527,-12 1527,-12 1527,-56 1527,-56 1527,-62 1521,-68 1515,-68\"/>\r\n",
       "<text text-anchor=\"start\" x=\"1428.5\" y=\"-52.8\" font-family=\"Helvetica,sans-Serif\" font-size=\"14.00\">gini = 0.116</text>\r\n",
       "<text text-anchor=\"start\" x=\"1418.5\" y=\"-37.8\" font-family=\"Helvetica,sans-Serif\" font-size=\"14.00\">samples = 306</text>\r\n",
       "<text text-anchor=\"start\" x=\"1413\" y=\"-22.8\" font-family=\"Helvetica,sans-Serif\" font-size=\"14.00\">value = [287, 19]</text>\r\n",
       "<text text-anchor=\"start\" x=\"1416\" y=\"-7.8\" font-family=\"Helvetica,sans-Serif\" font-size=\"14.00\">class = Not Left</text>\r\n",
       "</g>\r\n",
       "<!-- 21&#45;&gt;23 -->\r\n",
       "<g id=\"edge23\" class=\"edge\"><title>21&#45;&gt;23</title>\r\n",
       "<path fill=\"none\" stroke=\"black\" d=\"M1396.33,-103.726C1405.67,-94.5142 1415.58,-84.7364 1424.91,-75.5343\"/>\r\n",
       "<polygon fill=\"black\" stroke=\"black\" points=\"1427.58,-77.8141 1432.24,-68.2996 1422.67,-72.8308 1427.58,-77.8141\"/>\r\n",
       "</g>\r\n",
       "<!-- 25 -->\r\n",
       "<g id=\"node26\" class=\"node\"><title>25</title>\r\n",
       "<path fill=\"#399de5\" fill-opacity=\"0.882353\" stroke=\"black\" d=\"M1655,-68C1655,-68 1557,-68 1557,-68 1551,-68 1545,-62 1545,-56 1545,-56 1545,-12 1545,-12 1545,-6 1551,-0 1557,-0 1557,-0 1655,-0 1655,-0 1661,-0 1667,-6 1667,-12 1667,-12 1667,-56 1667,-56 1667,-62 1661,-68 1655,-68\"/>\r\n",
       "<text text-anchor=\"start\" x=\"1568.5\" y=\"-52.8\" font-family=\"Helvetica,sans-Serif\" font-size=\"14.00\">gini = 0.189</text>\r\n",
       "<text text-anchor=\"start\" x=\"1558.5\" y=\"-37.8\" font-family=\"Helvetica,sans-Serif\" font-size=\"14.00\">samples = 616</text>\r\n",
       "<text text-anchor=\"start\" x=\"1553\" y=\"-22.8\" font-family=\"Helvetica,sans-Serif\" font-size=\"14.00\">value = [65, 551]</text>\r\n",
       "<text text-anchor=\"start\" x=\"1569\" y=\"-7.8\" font-family=\"Helvetica,sans-Serif\" font-size=\"14.00\">class = Left</text>\r\n",
       "</g>\r\n",
       "<!-- 24&#45;&gt;25 -->\r\n",
       "<g id=\"edge25\" class=\"edge\"><title>24&#45;&gt;25</title>\r\n",
       "<path fill=\"none\" stroke=\"black\" d=\"M1606,-103.726C1606,-95.5175 1606,-86.8595 1606,-78.56\"/>\r\n",
       "<polygon fill=\"black\" stroke=\"black\" points=\"1609.5,-78.2996 1606,-68.2996 1602.5,-78.2996 1609.5,-78.2996\"/>\r\n",
       "</g>\r\n",
       "<!-- 26 -->\r\n",
       "<g id=\"node27\" class=\"node\"><title>26</title>\r\n",
       "<path fill=\"#e58139\" fill-opacity=\"0.239216\" stroke=\"black\" d=\"M1803,-68C1803,-68 1697,-68 1697,-68 1691,-68 1685,-62 1685,-56 1685,-56 1685,-12 1685,-12 1685,-6 1691,-0 1697,-0 1697,-0 1803,-0 1803,-0 1809,-0 1815,-6 1815,-12 1815,-12 1815,-56 1815,-56 1815,-62 1809,-68 1803,-68\"/>\r\n",
       "<text text-anchor=\"start\" x=\"1712.5\" y=\"-52.8\" font-family=\"Helvetica,sans-Serif\" font-size=\"14.00\">gini = 0.491</text>\r\n",
       "<text text-anchor=\"start\" x=\"1702.5\" y=\"-37.8\" font-family=\"Helvetica,sans-Serif\" font-size=\"14.00\">samples = 354</text>\r\n",
       "<text text-anchor=\"start\" x=\"1693\" y=\"-22.8\" font-family=\"Helvetica,sans-Serif\" font-size=\"14.00\">value = [201, 153]</text>\r\n",
       "<text text-anchor=\"start\" x=\"1700\" y=\"-7.8\" font-family=\"Helvetica,sans-Serif\" font-size=\"14.00\">class = Not Left</text>\r\n",
       "</g>\r\n",
       "<!-- 24&#45;&gt;26 -->\r\n",
       "<g id=\"edge26\" class=\"edge\"><title>24&#45;&gt;26</title>\r\n",
       "<path fill=\"none\" stroke=\"black\" d=\"M1659.62,-103.726C1672.21,-94.1494 1685.61,-83.9611 1698.13,-74.4438\"/>\r\n",
       "<polygon fill=\"black\" stroke=\"black\" points=\"1700.37,-77.1386 1706.21,-68.2996 1696.13,-71.5666 1700.37,-77.1386\"/>\r\n",
       "</g>\r\n",
       "</g>\r\n",
       "</svg>\r\n"
      ],
      "text/plain": [
       "<graphviz.files.Source at 0x1c45bea2f28>"
      ]
     },
     "execution_count": 16,
     "metadata": {},
     "output_type": "execute_result"
    }
   ],
   "source": [
    "import graphviz\n",
    "\n",
    "dot_data = tree.export_graphviz(clf, out_file=None, feature_names=dataset_without_left.columns, class_names=['Not Left', 'Left'], filled=True, rounded=True, special_characters=True)\n",
    "graph = graphviz.Source(dot_data)\n",
    "graph"
   ]
  },
  {
   "cell_type": "code",
   "execution_count": 17,
   "metadata": {},
   "outputs": [
    {
     "name": "stdout",
     "output_type": "stream",
     "text": [
      "[[2248   51]\n",
      " [  89  612]]\n"
     ]
    },
    {
     "data": {
      "image/png": "[encoded data removed]",
      "text/plain": [
       "<matplotlib.figure.Figure at 0x1c45f4a6f60>"
      ]
     },
     "metadata": {},
     "output_type": "display_data"
    }
   ],
   "source": [
    "# Confusion Matrix\n",
    "\n",
    "#   TN     FN  \n",
    "#   FP     TP\n",
    "\n",
    "cm = confusion_matrix(test_y, test_pred)\n",
    "print (cm)\n",
    "plt.matshow(cm)\n",
    "plt.title('Confusion matrix')\n",
    "plt.colorbar()\n",
    "plt.ylabel('True label')\n",
    "plt.xlabel('Predicted label')\n",
    "plt.show()"
   ]
  },
  {
   "cell_type": "code",
   "execution_count": 18,
   "metadata": {},
   "outputs": [
    {
     "name": "stdout",
     "output_type": "stream",
     "text": [
      "             precision    recall  f1-score   support\n",
      "\n",
      "   Not Left       0.96      0.98      0.97      2299\n",
      "       Left       0.92      0.87      0.90       701\n",
      "\n",
      "avg / total       0.95      0.95      0.95      3000\n",
      "\n"
     ]
    }
   ],
   "source": [
    "from sklearn.metrics import classification_report\n",
    "print(classification_report(test_y, \n",
    "                            test_pred, \n",
    "                            target_names=['Not Left', 'Left']))"
   ]
  },
  {
   "cell_type": "code",
   "execution_count": null,
   "metadata": {},
   "outputs": [],
   "source": []
  },
  {
   "cell_type": "code",
   "execution_count": 19,
   "metadata": {},
   "outputs": [
    {
     "data": {
      "image/png": "[encoded data removed]",
      "text/plain": [
       "<matplotlib.figure.Figure at 0x1c460b7d9e8>"
      ]
     },
     "metadata": {},
     "output_type": "display_data"
    }
   ],
   "source": [
    "max_depth = 20\n",
    "acc_train = list()\n",
    "acc_test = list()\n",
    "for i in range(max_depth):\n",
    "    clf = tree.DecisionTreeClassifier(criterion='gini', splitter='best', \n",
    "                                  max_depth=i+1, \n",
    "                                  min_samples_split=2, min_samples_leaf=20)\n",
    "    clf = clf.fit(train_x, train_y)\n",
    "    train_pred = clf.predict(train_x)\n",
    "    test_pred = clf.predict(test_x)\n",
    "    acc_train.append(metrics.accuracy_score(train_y, train_pred))\n",
    "    acc_test.append(metrics.accuracy_score(test_y, test_pred))\n",
    "\n",
    "plt.figure(figsize=(10, 5))    \n",
    "plt.plot(range(1,max_depth+1), acc_train)\n",
    "plt.plot(range(1,max_depth+1), acc_test)\n",
    "plt.xlabel('Max Depth')\n",
    "plt.ylabel('Accuracy')\n",
    "plt.legend(['accuracy train', 'accuracy test'], loc='best')\n",
    "plt.show()\n",
    "# best depth??"
   ]
  },
  {
   "cell_type": "code",
   "execution_count": 20,
   "metadata": {},
   "outputs": [
    {
     "data": {
      "image/png": "[encoded data removed]",
      "text/plain": [
       "<matplotlib.figure.Figure at 0x1c460bb8438>"
      ]
     },
     "metadata": {},
     "output_type": "display_data"
    }
   ],
   "source": [
    "max_depth = 20\n",
    "acc_train = list()\n",
    "acc_test = list()\n",
    "for i in range(max_depth):\n",
    "    clf = tree.DecisionTreeClassifier(criterion='gini', splitter='best', \n",
    "                                  max_depth= 6, \n",
    "                                  min_samples_split=2, min_samples_leaf=(i+1)*(i+1))\n",
    "    clf = clf.fit(train_x, train_y)\n",
    "    train_pred = clf.predict(train_x)\n",
    "    test_pred = clf.predict(test_x)\n",
    "    acc_train.append(metrics.accuracy_score(train_y, train_pred))\n",
    "    acc_test.append(metrics.accuracy_score(test_y, test_pred))\n",
    "plt.figure(figsize=(10, 5))    \n",
    "plt.plot([(i+1)*(i+1) for i in range(max_depth)], acc_train)\n",
    "plt.plot([(i+1)*(i+1) for i in range(max_depth)], acc_test)\n",
    "plt.xlabel('Min_Leaf')\n",
    "plt.ylabel('Accuracy')\n",
    "plt.legend(['accuracy train', 'accuracy test'], loc='best')\n",
    "plt.show()\n"
   ]
  },
  {
   "cell_type": "code",
   "execution_count": 21,
   "metadata": {},
   "outputs": [
    {
     "data": {
      "image/png": "[encoded data removed]",
      "text/plain": [
       "<matplotlib.figure.Figure at 0x1c460bf9e80>"
      ]
     },
     "metadata": {},
     "output_type": "display_data"
    }
   ],
   "source": [
    "max_depth = 10\n",
    "from mpl_toolkits.mplot3d import Axes3D\n",
    "plt.figure(figsize=(10, 5))\n",
    "for j in range(max_depth):\n",
    "    acc_train = list()\n",
    "    acc_test = list()\n",
    "    for i in range(max_depth):\n",
    "        clf = tree.DecisionTreeClassifier(criterion='gini', splitter='best', \n",
    "                                      max_depth= j+1, \n",
    "                                      min_samples_split=2, min_samples_leaf=(i+1)*(i+1))\n",
    "        clf = clf.fit(train_x, train_y)\n",
    "        train_pred = clf.predict(train_x)\n",
    "        test_pred = clf.predict(test_x)\n",
    "        acc_train.append(metrics.accuracy_score(train_y, train_pred))\n",
    "        acc_test.append(metrics.accuracy_score(test_y, test_pred))\n",
    "        \n",
    "    plt.plot([(i+1)*(i+1) for i in range(max_depth)], acc_test)\n",
    "plt.xlabel('Min_Leaf')\n",
    "plt.ylabel('Accuracy')\n",
    "plt.legend(['acc_test w. max depth '+ str(i) for i in range(max_depth)], loc='best')\n",
    "plt.show()"
   ]
  },
  {
   "cell_type": "code",
   "execution_count": 22,
   "metadata": {},
   "outputs": [
    {
     "name": "stderr",
     "output_type": "stream",
     "text": [
      "C:\\Users\\danie\\Anaconda3\\lib\\site-packages\\sklearn\\tree\\tree.py:282: DeprecationWarning: The min_impurity_split parameter is deprecated and will be removed in version 0.21. Use the min_impurity_decrease parameter instead.\n",
      "  DeprecationWarning)\n"
     ]
    }
   ],
   "source": [
    "# test number 2\n",
    "clf = tree.DecisionTreeClassifier(criterion='gini', splitter='best', \n",
    "                                  max_depth=6,\n",
    "                                  min_samples_split=2, min_samples_leaf=20,min_impurity_split = 0.15)\n",
    "clf = clf.fit(train_x, train_y)"
   ]
  },
  {
   "cell_type": "code",
   "execution_count": 23,
   "metadata": {},
   "outputs": [],
   "source": [
    "train_pred = clf.predict(train_x)\n",
    "test_pred = clf.predict(test_x)"
   ]
  },
  {
   "cell_type": "code",
   "execution_count": 24,
   "metadata": {},
   "outputs": [
    {
     "name": "stdout",
     "output_type": "stream",
     "text": [
      "0.969333333333\n",
      "0.952451708767\n",
      "0.914407988588\n",
      "0.933042212518\n",
      "[[2267   32]\n",
      " [  60  641]]\n"
     ]
    }
   ],
   "source": [
    "# Accuracy Evaluation\n",
    "#print (metrics.accuracy_score(train_y, train_pred))\n",
    "print (metrics.accuracy_score(test_y, test_pred))\n",
    "print (metrics.precision_score(test_y, test_pred))\n",
    "print (metrics.recall_score(test_y, test_pred))\n",
    "print (metrics.f1_score(test_y, test_pred))\n",
    "# Confusion Matrix\n",
    "\n",
    "#   TN     FN  \n",
    "#   FP     TP\n",
    "cm = confusion_matrix(test_y, test_pred)\n",
    "print (cm)\n"
   ]
  },
  {
   "cell_type": "code",
   "execution_count": 25,
   "metadata": {},
   "outputs": [
    {
     "data": {
      "image/svg+xml": [
       "<?xml version=\"1.0\" encoding=\"UTF-8\" standalone=\"no\"?>\r\n",
       "<!DOCTYPE svg PUBLIC \"-//W3C//DTD SVG 1.1//EN\"\r\n",
       " \"http://www.w3.org/Graphics/SVG/1.1/DTD/svg11.dtd\">\r\n",
       "<!-- Generated by graphviz version 2.38.0 (20140413.2041)\r\n",
       " -->\r\n",
       "<!-- Title: Tree Pages: 1 -->\r\n",
       "<svg width=\"1104pt\" height=\"671pt\"\r\n",
       " viewBox=\"0.00 0.00 1104.00 671.00\" xmlns=\"http://www.w3.org/2000/svg\" xmlns:xlink=\"http://www.w3.org/1999/xlink\">\r\n",
       "<g id=\"graph0\" class=\"graph\" transform=\"scale(1 1) rotate(0) translate(4 667)\">\r\n",
       "<title>Tree</title>\r\n",
       "<polygon fill=\"white\" stroke=\"none\" points=\"-4,4 -4,-667 1100,-667 1100,4 -4,4\"/>\r\n",
       "<!-- 0 -->\r\n",
       "<g id=\"node1\" class=\"node\"><title>0</title>\r\n",
       "<path fill=\"#e58139\" fill-opacity=\"0.686275\" stroke=\"black\" d=\"M546.5,-663C546.5,-663 393.5,-663 393.5,-663 387.5,-663 381.5,-657 381.5,-651 381.5,-651 381.5,-592 381.5,-592 381.5,-586 387.5,-580 393.5,-580 393.5,-580 546.5,-580 546.5,-580 552.5,-580 558.5,-586 558.5,-592 558.5,-592 558.5,-651 558.5,-651 558.5,-657 552.5,-663 546.5,-663\"/>\r\n",
       "<text text-anchor=\"start\" x=\"389.5\" y=\"-647.8\" font-family=\"Helvetica,sans-Serif\" font-size=\"14.00\">satisfaction_level ≤ 0.465</text>\r\n",
       "<text text-anchor=\"start\" x=\"432.5\" y=\"-632.8\" font-family=\"Helvetica,sans-Serif\" font-size=\"14.00\">gini = 0.364</text>\r\n",
       "<text text-anchor=\"start\" x=\"414\" y=\"-617.8\" font-family=\"Helvetica,sans-Serif\" font-size=\"14.00\">samples = 11999</text>\r\n",
       "<text text-anchor=\"start\" x=\"405\" y=\"-602.8\" font-family=\"Helvetica,sans-Serif\" font-size=\"14.00\">value = [9129, 2870]</text>\r\n",
       "<text text-anchor=\"start\" x=\"420\" y=\"-587.8\" font-family=\"Helvetica,sans-Serif\" font-size=\"14.00\">class = Not Left</text>\r\n",
       "</g>\r\n",
       "<!-- 1 -->\r\n",
       "<g id=\"node2\" class=\"node\"><title>1</title>\r\n",
       "<path fill=\"#399de5\" fill-opacity=\"0.352941\" stroke=\"black\" d=\"M439,-544C439,-544 311,-544 311,-544 305,-544 299,-538 299,-532 299,-532 299,-473 299,-473 299,-467 305,-461 311,-461 311,-461 439,-461 439,-461 445,-461 451,-467 451,-473 451,-473 451,-532 451,-532 451,-538 445,-544 439,-544\"/>\r\n",
       "<text text-anchor=\"start\" x=\"307\" y=\"-528.8\" font-family=\"Helvetica,sans-Serif\" font-size=\"14.00\">number_project ≤ 2.5</text>\r\n",
       "<text text-anchor=\"start\" x=\"337.5\" y=\"-513.8\" font-family=\"Helvetica,sans-Serif\" font-size=\"14.00\">gini = 0.477</text>\r\n",
       "<text text-anchor=\"start\" x=\"323.5\" y=\"-498.8\" font-family=\"Helvetica,sans-Serif\" font-size=\"14.00\">samples = 3344</text>\r\n",
       "<text text-anchor=\"start\" x=\"310\" y=\"-483.8\" font-family=\"Helvetica,sans-Serif\" font-size=\"14.00\">value = [1313, 2031]</text>\r\n",
       "<text text-anchor=\"start\" x=\"338\" y=\"-468.8\" font-family=\"Helvetica,sans-Serif\" font-size=\"14.00\">class = Left</text>\r\n",
       "</g>\r\n",
       "<!-- 0&#45;&gt;1 -->\r\n",
       "<g id=\"edge1\" class=\"edge\"><title>0&#45;&gt;1</title>\r\n",
       "<path fill=\"none\" stroke=\"black\" d=\"M437.04,-579.907C429.745,-570.923 421.944,-561.315 414.421,-552.05\"/>\r\n",
       "<polygon fill=\"black\" stroke=\"black\" points=\"416.922,-549.578 407.902,-544.021 411.488,-553.99 416.922,-549.578\"/>\r\n",
       "<text text-anchor=\"middle\" x=\"405.321\" y=\"-565.187\" font-family=\"Helvetica,sans-Serif\" font-size=\"14.00\">True</text>\r\n",
       "</g>\r\n",
       "<!-- 8 -->\r\n",
       "<g id=\"node9\" class=\"node\"><title>8</title>\r\n",
       "<path fill=\"#e58139\" fill-opacity=\"0.894118\" stroke=\"black\" d=\"M650.5,-544C650.5,-544 481.5,-544 481.5,-544 475.5,-544 469.5,-538 469.5,-532 469.5,-532 469.5,-473 469.5,-473 469.5,-467 475.5,-461 481.5,-461 481.5,-461 650.5,-461 650.5,-461 656.5,-461 662.5,-467 662.5,-473 662.5,-473 662.5,-532 662.5,-532 662.5,-538 656.5,-544 650.5,-544\"/>\r\n",
       "<text text-anchor=\"start\" x=\"477.5\" y=\"-528.8\" font-family=\"Helvetica,sans-Serif\" font-size=\"14.00\">time_spend_company ≤ 4.5</text>\r\n",
       "<text text-anchor=\"start\" x=\"528.5\" y=\"-513.8\" font-family=\"Helvetica,sans-Serif\" font-size=\"14.00\">gini = 0.175</text>\r\n",
       "<text text-anchor=\"start\" x=\"514.5\" y=\"-498.8\" font-family=\"Helvetica,sans-Serif\" font-size=\"14.00\">samples = 8655</text>\r\n",
       "<text text-anchor=\"start\" x=\"505\" y=\"-483.8\" font-family=\"Helvetica,sans-Serif\" font-size=\"14.00\">value = [7816, 839]</text>\r\n",
       "<text text-anchor=\"start\" x=\"516\" y=\"-468.8\" font-family=\"Helvetica,sans-Serif\" font-size=\"14.00\">class = Not Left</text>\r\n",
       "</g>\r\n",
       "<!-- 0&#45;&gt;8 -->\r\n",
       "<g id=\"edge8\" class=\"edge\"><title>0&#45;&gt;8</title>\r\n",
       "<path fill=\"none\" stroke=\"black\" d=\"M503.307,-579.907C510.753,-570.832 518.721,-561.121 526.394,-551.769\"/>\r\n",
       "<polygon fill=\"black\" stroke=\"black\" points=\"529.115,-553.972 532.752,-544.021 523.703,-549.531 529.115,-553.972\"/>\r\n",
       "<text text-anchor=\"middle\" x=\"535.205\" y=\"-565.2\" font-family=\"Helvetica,sans-Serif\" font-size=\"14.00\">False</text>\r\n",
       "</g>\r\n",
       "<!-- 2 -->\r\n",
       "<g id=\"node3\" class=\"node\"><title>2</title>\r\n",
       "<path fill=\"#399de5\" fill-opacity=\"0.854902\" stroke=\"black\" d=\"M260.5,-425C260.5,-425 123.5,-425 123.5,-425 117.5,-425 111.5,-419 111.5,-413 111.5,-413 111.5,-354 111.5,-354 111.5,-348 117.5,-342 123.5,-342 123.5,-342 260.5,-342 260.5,-342 266.5,-342 272.5,-348 272.5,-354 272.5,-354 272.5,-413 272.5,-413 272.5,-419 266.5,-425 260.5,-425\"/>\r\n",
       "<text text-anchor=\"start\" x=\"119.5\" y=\"-409.8\" font-family=\"Helvetica,sans-Serif\" font-size=\"14.00\">last_evaluation ≤ 0.575</text>\r\n",
       "<text text-anchor=\"start\" x=\"154.5\" y=\"-394.8\" font-family=\"Helvetica,sans-Serif\" font-size=\"14.00\">gini = 0.224</text>\r\n",
       "<text text-anchor=\"start\" x=\"140.5\" y=\"-379.8\" font-family=\"Helvetica,sans-Serif\" font-size=\"14.00\">samples = 1404</text>\r\n",
       "<text text-anchor=\"start\" x=\"131\" y=\"-364.8\" font-family=\"Helvetica,sans-Serif\" font-size=\"14.00\">value = [180, 1224]</text>\r\n",
       "<text text-anchor=\"start\" x=\"155\" y=\"-349.8\" font-family=\"Helvetica,sans-Serif\" font-size=\"14.00\">class = Left</text>\r\n",
       "</g>\r\n",
       "<!-- 1&#45;&gt;2 -->\r\n",
       "<g id=\"edge2\" class=\"edge\"><title>1&#45;&gt;2</title>\r\n",
       "<path fill=\"none\" stroke=\"black\" d=\"M311.509,-460.907C296.179,-451.106 279.688,-440.563 264,-430.533\"/>\r\n",
       "<polygon fill=\"black\" stroke=\"black\" points=\"265.689,-427.459 255.379,-425.021 261.919,-433.356 265.689,-427.459\"/>\r\n",
       "</g>\r\n",
       "<!-- 5 -->\r\n",
       "<g id=\"node6\" class=\"node\"><title>5</title>\r\n",
       "<path fill=\"#e58139\" fill-opacity=\"0.286275\" stroke=\"black\" d=\"M455.5,-425C455.5,-425 302.5,-425 302.5,-425 296.5,-425 290.5,-419 290.5,-413 290.5,-413 290.5,-354 290.5,-354 290.5,-348 296.5,-342 302.5,-342 302.5,-342 455.5,-342 455.5,-342 461.5,-342 467.5,-348 467.5,-354 467.5,-354 467.5,-413 467.5,-413 467.5,-419 461.5,-425 455.5,-425\"/>\r\n",
       "<text text-anchor=\"start\" x=\"298.5\" y=\"-409.8\" font-family=\"Helvetica,sans-Serif\" font-size=\"14.00\">satisfaction_level ≤ 0.115</text>\r\n",
       "<text text-anchor=\"start\" x=\"341.5\" y=\"-394.8\" font-family=\"Helvetica,sans-Serif\" font-size=\"14.00\">gini = 0.486</text>\r\n",
       "<text text-anchor=\"start\" x=\"327.5\" y=\"-379.8\" font-family=\"Helvetica,sans-Serif\" font-size=\"14.00\">samples = 1940</text>\r\n",
       "<text text-anchor=\"start\" x=\"318\" y=\"-364.8\" font-family=\"Helvetica,sans-Serif\" font-size=\"14.00\">value = [1133, 807]</text>\r\n",
       "<text text-anchor=\"start\" x=\"329\" y=\"-349.8\" font-family=\"Helvetica,sans-Serif\" font-size=\"14.00\">class = Not Left</text>\r\n",
       "</g>\r\n",
       "<!-- 1&#45;&gt;5 -->\r\n",
       "<g id=\"edge5\" class=\"edge\"><title>1&#45;&gt;5</title>\r\n",
       "<path fill=\"none\" stroke=\"black\" d=\"M376.388,-460.907C376.673,-452.558 376.977,-443.671 377.273,-435.02\"/>\r\n",
       "<polygon fill=\"black\" stroke=\"black\" points=\"380.771,-435.135 377.615,-425.021 373.775,-434.895 380.771,-435.135\"/>\r\n",
       "</g>\r\n",
       "<!-- 3 -->\r\n",
       "<g id=\"node4\" class=\"node\"><title>3</title>\r\n",
       "<path fill=\"#399de5\" fill-opacity=\"0.937255\" stroke=\"black\" d=\"M118,-298.5C118,-298.5 12,-298.5 12,-298.5 6,-298.5 0,-292.5 0,-286.5 0,-286.5 0,-242.5 0,-242.5 0,-236.5 6,-230.5 12,-230.5 12,-230.5 118,-230.5 118,-230.5 124,-230.5 130,-236.5 130,-242.5 130,-242.5 130,-286.5 130,-286.5 130,-292.5 124,-298.5 118,-298.5\"/>\r\n",
       "<text text-anchor=\"start\" x=\"27.5\" y=\"-283.3\" font-family=\"Helvetica,sans-Serif\" font-size=\"14.00\">gini = 0.111</text>\r\n",
       "<text text-anchor=\"start\" x=\"13.5\" y=\"-268.3\" font-family=\"Helvetica,sans-Serif\" font-size=\"14.00\">samples = 1293</text>\r\n",
       "<text text-anchor=\"start\" x=\"8\" y=\"-253.3\" font-family=\"Helvetica,sans-Serif\" font-size=\"14.00\">value = [76, 1217]</text>\r\n",
       "<text text-anchor=\"start\" x=\"28\" y=\"-238.3\" font-family=\"Helvetica,sans-Serif\" font-size=\"14.00\">class = Left</text>\r\n",
       "</g>\r\n",
       "<!-- 2&#45;&gt;3 -->\r\n",
       "<g id=\"edge3\" class=\"edge\"><title>2&#45;&gt;3</title>\r\n",
       "<path fill=\"none\" stroke=\"black\" d=\"M147.938,-341.907C135.122,-330.101 121.137,-317.217 108.364,-305.45\"/>\r\n",
       "<polygon fill=\"black\" stroke=\"black\" points=\"110.728,-302.868 101.002,-298.667 105.985,-308.017 110.728,-302.868\"/>\r\n",
       "</g>\r\n",
       "<!-- 4 -->\r\n",
       "<g id=\"node5\" class=\"node\"><title>4</title>\r\n",
       "<path fill=\"#e58139\" fill-opacity=\"0.933333\" stroke=\"black\" d=\"M252,-298.5C252,-298.5 160,-298.5 160,-298.5 154,-298.5 148,-292.5 148,-286.5 148,-286.5 148,-242.5 148,-242.5 148,-236.5 154,-230.5 160,-230.5 160,-230.5 252,-230.5 252,-230.5 258,-230.5 264,-236.5 264,-242.5 264,-242.5 264,-286.5 264,-286.5 264,-292.5 258,-298.5 252,-298.5\"/>\r\n",
       "<text text-anchor=\"start\" x=\"168.5\" y=\"-283.3\" font-family=\"Helvetica,sans-Serif\" font-size=\"14.00\">gini = 0.118</text>\r\n",
       "<text text-anchor=\"start\" x=\"158.5\" y=\"-268.3\" font-family=\"Helvetica,sans-Serif\" font-size=\"14.00\">samples = 111</text>\r\n",
       "<text text-anchor=\"start\" x=\"157.5\" y=\"-253.3\" font-family=\"Helvetica,sans-Serif\" font-size=\"14.00\">value = [104, 7]</text>\r\n",
       "<text text-anchor=\"start\" x=\"156\" y=\"-238.3\" font-family=\"Helvetica,sans-Serif\" font-size=\"14.00\">class = Not Left</text>\r\n",
       "</g>\r\n",
       "<!-- 2&#45;&gt;4 -->\r\n",
       "<g id=\"edge4\" class=\"edge\"><title>2&#45;&gt;4</title>\r\n",
       "<path fill=\"none\" stroke=\"black\" d=\"M196.857,-341.907C198.138,-331.204 199.525,-319.615 200.822,-308.776\"/>\r\n",
       "<polygon fill=\"black\" stroke=\"black\" points=\"204.318,-309.012 202.031,-298.667 197.368,-308.18 204.318,-309.012\"/>\r\n",
       "</g>\r\n",
       "<!-- 6 -->\r\n",
       "<g id=\"node7\" class=\"node\"><title>6</title>\r\n",
       "<path fill=\"#399de5\" stroke=\"black\" d=\"M410.5,-298.5C410.5,-298.5 321.5,-298.5 321.5,-298.5 315.5,-298.5 309.5,-292.5 309.5,-286.5 309.5,-286.5 309.5,-242.5 309.5,-242.5 309.5,-236.5 315.5,-230.5 321.5,-230.5 321.5,-230.5 410.5,-230.5 410.5,-230.5 416.5,-230.5 422.5,-236.5 422.5,-242.5 422.5,-242.5 422.5,-286.5 422.5,-286.5 422.5,-292.5 416.5,-298.5 410.5,-298.5\"/>\r\n",
       "<text text-anchor=\"start\" x=\"337\" y=\"-283.3\" font-family=\"Helvetica,sans-Serif\" font-size=\"14.00\">gini = 0.0</text>\r\n",
       "<text text-anchor=\"start\" x=\"318.5\" y=\"-268.3\" font-family=\"Helvetica,sans-Serif\" font-size=\"14.00\">samples = 710</text>\r\n",
       "<text text-anchor=\"start\" x=\"317.5\" y=\"-253.3\" font-family=\"Helvetica,sans-Serif\" font-size=\"14.00\">value = [0, 710]</text>\r\n",
       "<text text-anchor=\"start\" x=\"329\" y=\"-238.3\" font-family=\"Helvetica,sans-Serif\" font-size=\"14.00\">class = Left</text>\r\n",
       "</g>\r\n",
       "<!-- 5&#45;&gt;6 -->\r\n",
       "<g id=\"edge6\" class=\"edge\"><title>5&#45;&gt;6</title>\r\n",
       "<path fill=\"none\" stroke=\"black\" d=\"M374.49,-341.907C373.3,-331.204 372.013,-319.615 370.808,-308.776\"/>\r\n",
       "<polygon fill=\"black\" stroke=\"black\" points=\"374.268,-308.219 369.685,-298.667 367.311,-308.992 374.268,-308.219\"/>\r\n",
       "</g>\r\n",
       "<!-- 7 -->\r\n",
       "<g id=\"node8\" class=\"node\"><title>7</title>\r\n",
       "<path fill=\"#e58139\" fill-opacity=\"0.913725\" stroke=\"black\" d=\"M559,-298.5C559,-298.5 453,-298.5 453,-298.5 447,-298.5 441,-292.5 441,-286.5 441,-286.5 441,-242.5 441,-242.5 441,-236.5 447,-230.5 453,-230.5 453,-230.5 559,-230.5 559,-230.5 565,-230.5 571,-236.5 571,-242.5 571,-242.5 571,-286.5 571,-286.5 571,-292.5 565,-298.5 559,-298.5\"/>\r\n",
       "<text text-anchor=\"start\" x=\"468.5\" y=\"-283.3\" font-family=\"Helvetica,sans-Serif\" font-size=\"14.00\">gini = 0.145</text>\r\n",
       "<text text-anchor=\"start\" x=\"454.5\" y=\"-268.3\" font-family=\"Helvetica,sans-Serif\" font-size=\"14.00\">samples = 1230</text>\r\n",
       "<text text-anchor=\"start\" x=\"449\" y=\"-253.3\" font-family=\"Helvetica,sans-Serif\" font-size=\"14.00\">value = [1133, 97]</text>\r\n",
       "<text text-anchor=\"start\" x=\"456\" y=\"-238.3\" font-family=\"Helvetica,sans-Serif\" font-size=\"14.00\">class = Not Left</text>\r\n",
       "</g>\r\n",
       "<!-- 5&#45;&gt;7 -->\r\n",
       "<g id=\"edge7\" class=\"edge\"><title>5&#45;&gt;7</title>\r\n",
       "<path fill=\"none\" stroke=\"black\" d=\"M423.062,-341.907C435.878,-330.101 449.863,-317.217 462.636,-305.45\"/>\r\n",
       "<polygon fill=\"black\" stroke=\"black\" points=\"465.015,-308.017 469.998,-298.667 460.272,-302.868 465.015,-308.017\"/>\r\n",
       "</g>\r\n",
       "<!-- 9 -->\r\n",
       "<g id=\"node10\" class=\"node\"><title>9</title>\r\n",
       "<path fill=\"#e58139\" fill-opacity=\"0.984314\" stroke=\"black\" d=\"M619,-417.5C619,-417.5 505,-417.5 505,-417.5 499,-417.5 493,-411.5 493,-405.5 493,-405.5 493,-361.5 493,-361.5 493,-355.5 499,-349.5 505,-349.5 505,-349.5 619,-349.5 619,-349.5 625,-349.5 631,-355.5 631,-361.5 631,-361.5 631,-405.5 631,-405.5 631,-411.5 625,-417.5 619,-417.5\"/>\r\n",
       "<text text-anchor=\"start\" x=\"528.5\" y=\"-402.3\" font-family=\"Helvetica,sans-Serif\" font-size=\"14.00\">gini = 0.03</text>\r\n",
       "<text text-anchor=\"start\" x=\"510.5\" y=\"-387.3\" font-family=\"Helvetica,sans-Serif\" font-size=\"14.00\">samples = 7076</text>\r\n",
       "<text text-anchor=\"start\" x=\"501\" y=\"-372.3\" font-family=\"Helvetica,sans-Serif\" font-size=\"14.00\">value = [6970, 106]</text>\r\n",
       "<text text-anchor=\"start\" x=\"512\" y=\"-357.3\" font-family=\"Helvetica,sans-Serif\" font-size=\"14.00\">class = Not Left</text>\r\n",
       "</g>\r\n",
       "<!-- 8&#45;&gt;9 -->\r\n",
       "<g id=\"edge9\" class=\"edge\"><title>8&#45;&gt;9</title>\r\n",
       "<path fill=\"none\" stroke=\"black\" d=\"M564.612,-460.907C564.246,-450.204 563.85,-438.615 563.48,-427.776\"/>\r\n",
       "<polygon fill=\"black\" stroke=\"black\" points=\"566.974,-427.541 563.134,-417.667 559.978,-427.781 566.974,-427.541\"/>\r\n",
       "</g>\r\n",
       "<!-- 10 -->\r\n",
       "<g id=\"node11\" class=\"node\"><title>10</title>\r\n",
       "<path fill=\"#e58139\" fill-opacity=\"0.133333\" stroke=\"black\" d=\"M798.5,-425C798.5,-425 661.5,-425 661.5,-425 655.5,-425 649.5,-419 649.5,-413 649.5,-413 649.5,-354 649.5,-354 649.5,-348 655.5,-342 661.5,-342 661.5,-342 798.5,-342 798.5,-342 804.5,-342 810.5,-348 810.5,-354 810.5,-354 810.5,-413 810.5,-413 810.5,-419 804.5,-425 798.5,-425\"/>\r\n",
       "<text text-anchor=\"start\" x=\"657.5\" y=\"-409.8\" font-family=\"Helvetica,sans-Serif\" font-size=\"14.00\">last_evaluation ≤ 0.815</text>\r\n",
       "<text text-anchor=\"start\" x=\"692.5\" y=\"-394.8\" font-family=\"Helvetica,sans-Serif\" font-size=\"14.00\">gini = 0.497</text>\r\n",
       "<text text-anchor=\"start\" x=\"678.5\" y=\"-379.8\" font-family=\"Helvetica,sans-Serif\" font-size=\"14.00\">samples = 1579</text>\r\n",
       "<text text-anchor=\"start\" x=\"673\" y=\"-364.8\" font-family=\"Helvetica,sans-Serif\" font-size=\"14.00\">value = [846, 733]</text>\r\n",
       "<text text-anchor=\"start\" x=\"680\" y=\"-349.8\" font-family=\"Helvetica,sans-Serif\" font-size=\"14.00\">class = Not Left</text>\r\n",
       "</g>\r\n",
       "<!-- 8&#45;&gt;10 -->\r\n",
       "<g id=\"edge10\" class=\"edge\"><title>8&#45;&gt;10</title>\r\n",
       "<path fill=\"none\" stroke=\"black\" d=\"M622.899,-460.907C636.383,-451.288 650.869,-440.953 664.694,-431.09\"/>\r\n",
       "<polygon fill=\"black\" stroke=\"black\" points=\"667.094,-433.678 673.202,-425.021 663.028,-427.979 667.094,-433.678\"/>\r\n",
       "</g>\r\n",
       "<!-- 11 -->\r\n",
       "<g id=\"node12\" class=\"node\"><title>11</title>\r\n",
       "<path fill=\"#e58139\" fill-opacity=\"0.949020\" stroke=\"black\" d=\"M746,-298.5C746,-298.5 648,-298.5 648,-298.5 642,-298.5 636,-292.5 636,-286.5 636,-286.5 636,-242.5 636,-242.5 636,-236.5 642,-230.5 648,-230.5 648,-230.5 746,-230.5 746,-230.5 752,-230.5 758,-236.5 758,-242.5 758,-242.5 758,-286.5 758,-286.5 758,-292.5 752,-298.5 746,-298.5\"/>\r\n",
       "<text text-anchor=\"start\" x=\"659.5\" y=\"-283.3\" font-family=\"Helvetica,sans-Serif\" font-size=\"14.00\">gini = 0.091</text>\r\n",
       "<text text-anchor=\"start\" x=\"649.5\" y=\"-268.3\" font-family=\"Helvetica,sans-Serif\" font-size=\"14.00\">samples = 609</text>\r\n",
       "<text text-anchor=\"start\" x=\"644\" y=\"-253.3\" font-family=\"Helvetica,sans-Serif\" font-size=\"14.00\">value = [580, 29]</text>\r\n",
       "<text text-anchor=\"start\" x=\"647\" y=\"-238.3\" font-family=\"Helvetica,sans-Serif\" font-size=\"14.00\">class = Not Left</text>\r\n",
       "</g>\r\n",
       "<!-- 10&#45;&gt;11 -->\r\n",
       "<g id=\"edge11\" class=\"edge\"><title>10&#45;&gt;11</title>\r\n",
       "<path fill=\"none\" stroke=\"black\" d=\"M718.551,-341.907C715.501,-331.094 712.196,-319.376 709.112,-308.441\"/>\r\n",
       "<polygon fill=\"black\" stroke=\"black\" points=\"712.438,-307.341 706.355,-298.667 705.701,-309.242 712.438,-307.341\"/>\r\n",
       "</g>\r\n",
       "<!-- 12 -->\r\n",
       "<g id=\"node13\" class=\"node\"><title>12</title>\r\n",
       "<path fill=\"#399de5\" fill-opacity=\"0.623529\" stroke=\"black\" d=\"M976,-306C976,-306 788,-306 788,-306 782,-306 776,-300 776,-294 776,-294 776,-235 776,-235 776,-229 782,-223 788,-223 788,-223 976,-223 976,-223 982,-223 988,-229 988,-235 988,-235 988,-294 988,-294 988,-300 982,-306 976,-306\"/>\r\n",
       "<text text-anchor=\"start\" x=\"784\" y=\"-290.8\" font-family=\"Helvetica,sans-Serif\" font-size=\"14.00\">average_montly_hours ≤ 216.5</text>\r\n",
       "<text text-anchor=\"start\" x=\"844.5\" y=\"-275.8\" font-family=\"Helvetica,sans-Serif\" font-size=\"14.00\">gini = 0.398</text>\r\n",
       "<text text-anchor=\"start\" x=\"834.5\" y=\"-260.8\" font-family=\"Helvetica,sans-Serif\" font-size=\"14.00\">samples = 970</text>\r\n",
       "<text text-anchor=\"start\" x=\"825\" y=\"-245.8\" font-family=\"Helvetica,sans-Serif\" font-size=\"14.00\">value = [266, 704]</text>\r\n",
       "<text text-anchor=\"start\" x=\"845\" y=\"-230.8\" font-family=\"Helvetica,sans-Serif\" font-size=\"14.00\">class = Left</text>\r\n",
       "</g>\r\n",
       "<!-- 10&#45;&gt;12 -->\r\n",
       "<g id=\"edge12\" class=\"edge\"><title>10&#45;&gt;12</title>\r\n",
       "<path fill=\"none\" stroke=\"black\" d=\"M782.736,-341.907C795.115,-332.379 808.406,-322.148 821.11,-312.37\"/>\r\n",
       "<polygon fill=\"black\" stroke=\"black\" points=\"823.568,-314.894 829.358,-306.021 819.298,-309.347 823.568,-314.894\"/>\r\n",
       "</g>\r\n",
       "<!-- 13 -->\r\n",
       "<g id=\"node14\" class=\"node\"><title>13</title>\r\n",
       "<path fill=\"#e58139\" fill-opacity=\"0.929412\" stroke=\"black\" d=\"M843,-179.5C843,-179.5 745,-179.5 745,-179.5 739,-179.5 733,-173.5 733,-167.5 733,-167.5 733,-123.5 733,-123.5 733,-117.5 739,-111.5 745,-111.5 745,-111.5 843,-111.5 843,-111.5 849,-111.5 855,-117.5 855,-123.5 855,-123.5 855,-167.5 855,-167.5 855,-173.5 849,-179.5 843,-179.5\"/>\r\n",
       "<text text-anchor=\"start\" x=\"756.5\" y=\"-164.3\" font-family=\"Helvetica,sans-Serif\" font-size=\"14.00\">gini = 0.126</text>\r\n",
       "<text text-anchor=\"start\" x=\"746.5\" y=\"-149.3\" font-family=\"Helvetica,sans-Serif\" font-size=\"14.00\">samples = 178</text>\r\n",
       "<text text-anchor=\"start\" x=\"741\" y=\"-134.3\" font-family=\"Helvetica,sans-Serif\" font-size=\"14.00\">value = [166, 12]</text>\r\n",
       "<text text-anchor=\"start\" x=\"744\" y=\"-119.3\" font-family=\"Helvetica,sans-Serif\" font-size=\"14.00\">class = Not Left</text>\r\n",
       "</g>\r\n",
       "<!-- 12&#45;&gt;13 -->\r\n",
       "<g id=\"edge13\" class=\"edge\"><title>12&#45;&gt;13</title>\r\n",
       "<path fill=\"none\" stroke=\"black\" d=\"M851.469,-222.907C842.92,-211.542 833.621,-199.178 825.044,-187.774\"/>\r\n",
       "<polygon fill=\"black\" stroke=\"black\" points=\"827.754,-185.555 818.946,-179.667 822.16,-189.763 827.754,-185.555\"/>\r\n",
       "</g>\r\n",
       "<!-- 14 -->\r\n",
       "<g id=\"node15\" class=\"node\"><title>14</title>\r\n",
       "<path fill=\"#399de5\" fill-opacity=\"0.854902\" stroke=\"black\" d=\"M1054.5,-187C1054.5,-187 885.5,-187 885.5,-187 879.5,-187 873.5,-181 873.5,-175 873.5,-175 873.5,-116 873.5,-116 873.5,-110 879.5,-104 885.5,-104 885.5,-104 1054.5,-104 1054.5,-104 1060.5,-104 1066.5,-110 1066.5,-116 1066.5,-116 1066.5,-175 1066.5,-175 1066.5,-181 1060.5,-187 1054.5,-187\"/>\r\n",
       "<text text-anchor=\"start\" x=\"881.5\" y=\"-171.8\" font-family=\"Helvetica,sans-Serif\" font-size=\"14.00\">time_spend_company ≤ 6.5</text>\r\n",
       "<text text-anchor=\"start\" x=\"932.5\" y=\"-156.8\" font-family=\"Helvetica,sans-Serif\" font-size=\"14.00\">gini = 0.221</text>\r\n",
       "<text text-anchor=\"start\" x=\"922.5\" y=\"-141.8\" font-family=\"Helvetica,sans-Serif\" font-size=\"14.00\">samples = 792</text>\r\n",
       "<text text-anchor=\"start\" x=\"913\" y=\"-126.8\" font-family=\"Helvetica,sans-Serif\" font-size=\"14.00\">value = [100, 692]</text>\r\n",
       "<text text-anchor=\"start\" x=\"933\" y=\"-111.8\" font-family=\"Helvetica,sans-Serif\" font-size=\"14.00\">class = Left</text>\r\n",
       "</g>\r\n",
       "<!-- 12&#45;&gt;14 -->\r\n",
       "<g id=\"edge14\" class=\"edge\"><title>12&#45;&gt;14</title>\r\n",
       "<path fill=\"none\" stroke=\"black\" d=\"M912.531,-222.907C919.289,-213.923 926.515,-204.315 933.484,-195.05\"/>\r\n",
       "<polygon fill=\"black\" stroke=\"black\" points=\"936.309,-197.116 939.523,-187.021 930.715,-192.909 936.309,-197.116\"/>\r\n",
       "</g>\r\n",
       "<!-- 15 -->\r\n",
       "<g id=\"node16\" class=\"node\"><title>15</title>\r\n",
       "<path fill=\"#399de5\" fill-opacity=\"0.921569\" stroke=\"black\" d=\"M950,-68C950,-68 852,-68 852,-68 846,-68 840,-62 840,-56 840,-56 840,-12 840,-12 840,-6 846,-0 852,-0 852,-0 950,-0 950,-0 956,-0 962,-6 962,-12 962,-12 962,-56 962,-56 962,-62 956,-68 950,-68\"/>\r\n",
       "<text text-anchor=\"start\" x=\"863.5\" y=\"-52.8\" font-family=\"Helvetica,sans-Serif\" font-size=\"14.00\">gini = 0.134</text>\r\n",
       "<text text-anchor=\"start\" x=\"853.5\" y=\"-37.8\" font-family=\"Helvetica,sans-Serif\" font-size=\"14.00\">samples = 746</text>\r\n",
       "<text text-anchor=\"start\" x=\"848\" y=\"-22.8\" font-family=\"Helvetica,sans-Serif\" font-size=\"14.00\">value = [54, 692]</text>\r\n",
       "<text text-anchor=\"start\" x=\"864\" y=\"-7.8\" font-family=\"Helvetica,sans-Serif\" font-size=\"14.00\">class = Left</text>\r\n",
       "</g>\r\n",
       "<!-- 14&#45;&gt;15 -->\r\n",
       "<g id=\"edge15\" class=\"edge\"><title>14&#45;&gt;15</title>\r\n",
       "<path fill=\"none\" stroke=\"black\" d=\"M944.307,-103.726C938.789,-94.9703 932.95,-85.7032 927.406,-76.9051\"/>\r\n",
       "<polygon fill=\"black\" stroke=\"black\" points=\"930.276,-74.8941 921.983,-68.2996 924.353,-78.6259 930.276,-74.8941\"/>\r\n",
       "</g>\r\n",
       "<!-- 16 -->\r\n",
       "<g id=\"node17\" class=\"node\"><title>16</title>\r\n",
       "<path fill=\"#e58139\" stroke=\"black\" d=\"M1084,-68C1084,-68 992,-68 992,-68 986,-68 980,-62 980,-56 980,-56 980,-12 980,-12 980,-6 986,-0 992,-0 992,-0 1084,-0 1084,-0 1090,-0 1096,-6 1096,-12 1096,-12 1096,-56 1096,-56 1096,-62 1090,-68 1084,-68\"/>\r\n",
       "<text text-anchor=\"start\" x=\"1009\" y=\"-52.8\" font-family=\"Helvetica,sans-Serif\" font-size=\"14.00\">gini = 0.0</text>\r\n",
       "<text text-anchor=\"start\" x=\"994.5\" y=\"-37.8\" font-family=\"Helvetica,sans-Serif\" font-size=\"14.00\">samples = 46</text>\r\n",
       "<text text-anchor=\"start\" x=\"993.5\" y=\"-22.8\" font-family=\"Helvetica,sans-Serif\" font-size=\"14.00\">value = [46, 0]</text>\r\n",
       "<text text-anchor=\"start\" x=\"988\" y=\"-7.8\" font-family=\"Helvetica,sans-Serif\" font-size=\"14.00\">class = Not Left</text>\r\n",
       "</g>\r\n",
       "<!-- 14&#45;&gt;16 -->\r\n",
       "<g id=\"edge16\" class=\"edge\"><title>14&#45;&gt;16</title>\r\n",
       "<path fill=\"none\" stroke=\"black\" d=\"M995.321,-103.726C1000.76,-94.9703 1006.51,-85.7032 1011.98,-76.9051\"/>\r\n",
       "<polygon fill=\"black\" stroke=\"black\" points=\"1015.02,-78.6413 1017.32,-68.2996 1009.07,-74.9484 1015.02,-78.6413\"/>\r\n",
       "</g>\r\n",
       "</g>\r\n",
       "</svg>\r\n"
      ],
      "text/plain": [
       "<graphviz.files.Source at 0x1c45f443fd0>"
      ]
     },
     "execution_count": 25,
     "metadata": {},
     "output_type": "execute_result"
    }
   ],
   "source": [
    "dot_data = tree.export_graphviz(clf, out_file=None, feature_names=dataset_without_left.columns, class_names=['Not Left', 'Left'], filled=True, rounded=True, special_characters=True)\n",
    "graph = graphviz.Source(dot_data)\n",
    "graph"
   ]
  },
  {
   "cell_type": "code",
   "execution_count": 26,
   "metadata": {},
   "outputs": [],
   "source": [
    "# Confuzion Matrix\n",
    "\n",
    "# same confusion matrix of before"
   ]
  },
  {
   "cell_type": "code",
   "execution_count": 27,
   "metadata": {},
   "outputs": [
    {
     "name": "stderr",
     "output_type": "stream",
     "text": [
      "C:\\Users\\danie\\Anaconda3\\lib\\site-packages\\sklearn\\tree\\tree.py:282: DeprecationWarning: The min_impurity_split parameter is deprecated and will be removed in version 0.21. Use the min_impurity_decrease parameter instead.\n",
      "  DeprecationWarning)\n",
      "C:\\Users\\danie\\Anaconda3\\lib\\site-packages\\sklearn\\tree\\tree.py:282: DeprecationWarning: The min_impurity_split parameter is deprecated and will be removed in version 0.21. Use the min_impurity_decrease parameter instead.\n",
      "  DeprecationWarning)\n",
      "C:\\Users\\danie\\Anaconda3\\lib\\site-packages\\sklearn\\tree\\tree.py:282: DeprecationWarning: The min_impurity_split parameter is deprecated and will be removed in version 0.21. Use the min_impurity_decrease parameter instead.\n",
      "  DeprecationWarning)\n",
      "C:\\Users\\danie\\Anaconda3\\lib\\site-packages\\sklearn\\tree\\tree.py:282: DeprecationWarning: The min_impurity_split parameter is deprecated and will be removed in version 0.21. Use the min_impurity_decrease parameter instead.\n",
      "  DeprecationWarning)\n",
      "C:\\Users\\danie\\Anaconda3\\lib\\site-packages\\sklearn\\tree\\tree.py:282: DeprecationWarning: The min_impurity_split parameter is deprecated and will be removed in version 0.21. Use the min_impurity_decrease parameter instead.\n",
      "  DeprecationWarning)\n"
     ]
    },
    {
     "name": "stdout",
     "output_type": "stream",
     "text": [
      "Accuracy: 0.97 (+/- 0.01)\n"
     ]
    },
    {
     "name": "stderr",
     "output_type": "stream",
     "text": [
      "C:\\Users\\danie\\Anaconda3\\lib\\site-packages\\sklearn\\tree\\tree.py:282: DeprecationWarning: The min_impurity_split parameter is deprecated and will be removed in version 0.21. Use the min_impurity_decrease parameter instead.\n",
      "  DeprecationWarning)\n",
      "C:\\Users\\danie\\Anaconda3\\lib\\site-packages\\sklearn\\tree\\tree.py:282: DeprecationWarning: The min_impurity_split parameter is deprecated and will be removed in version 0.21. Use the min_impurity_decrease parameter instead.\n",
      "  DeprecationWarning)\n",
      "C:\\Users\\danie\\Anaconda3\\lib\\site-packages\\sklearn\\tree\\tree.py:282: DeprecationWarning: The min_impurity_split parameter is deprecated and will be removed in version 0.21. Use the min_impurity_decrease parameter instead.\n",
      "  DeprecationWarning)\n",
      "C:\\Users\\danie\\Anaconda3\\lib\\site-packages\\sklearn\\tree\\tree.py:282: DeprecationWarning: The min_impurity_split parameter is deprecated and will be removed in version 0.21. Use the min_impurity_decrease parameter instead.\n",
      "  DeprecationWarning)\n",
      "C:\\Users\\danie\\Anaconda3\\lib\\site-packages\\sklearn\\tree\\tree.py:282: DeprecationWarning: The min_impurity_split parameter is deprecated and will be removed in version 0.21. Use the min_impurity_decrease parameter instead.\n",
      "  DeprecationWarning)\n"
     ]
    }
   ],
   "source": [
    "# Cross Validation\n",
    "scores = cross_validation.cross_val_score(clf, \n",
    "                                          train_features, train_target, \n",
    "                                          cv=10)\n",
    "print ('Accuracy: %0.2f (+/- %0.2f)' % (scores.mean(), scores.std() * 2))"
   ]
  },
  {
   "cell_type": "code",
   "execution_count": 28,
   "metadata": {},
   "outputs": [
    {
     "name": "stdout",
     "output_type": "stream",
     "text": [
      "Accuracy: 0.98 (+/- 0.01)\n"
     ]
    }
   ],
   "source": [
    "# Random Forest\n",
    "\n",
    "clf = RandomForestClassifier(n_estimators=30, \n",
    "                             criterion='gini',\n",
    "                             max_features=None,\n",
    "                             max_depth=None, \n",
    "                             min_samples_split=2,\n",
    "                             min_samples_leaf=5,\n",
    "                             bootstrap=True,\n",
    "                             oob_score=False,\n",
    "                             random_state=None,\n",
    "                             class_weight=None) #balanced\n",
    "clf.fit(train_features, train_target)\n",
    "scores = cross_validation.cross_val_score(clf, train_features, train_target, cv=10)\n",
    "print ('Accuracy: %0.2f (+/- %0.2f)' % (scores.mean(), scores.std() * 2))"
   ]
  },
  {
   "cell_type": "code",
   "execution_count": 29,
   "metadata": {},
   "outputs": [],
   "source": [
    "predicted = clf.predict(train_features)"
   ]
  },
  {
   "cell_type": "code",
   "execution_count": 30,
   "metadata": {},
   "outputs": [
    {
     "name": "stdout",
     "output_type": "stream",
     "text": [
      "[[11406    22]\n",
      " [  188  3383]]\n"
     ]
    }
   ],
   "source": [
    "cm = confusion_matrix(train_target, predicted)\n",
    "print (cm)\n",
    "\n",
    "# a lot of FN..... not very interesting! We are interested in FP"
   ]
  },
  {
   "cell_type": "code",
   "execution_count": null,
   "metadata": {},
   "outputs": [],
   "source": []
  },
  {
   "cell_type": "code",
   "execution_count": null,
   "metadata": {},
   "outputs": [],
   "source": []
  },
  {
   "cell_type": "code",
   "execution_count": 31,
   "metadata": {},
   "outputs": [
    {
     "name": "stdout",
     "output_type": "stream",
     "text": [
      "0.951579298275\n",
      "0.955333333333\n",
      "[[2217   82]\n",
      " [  52  649]]\n"
     ]
    }
   ],
   "source": [
    "clf = tree.DecisionTreeClassifier(criterion='gini', splitter='best', \n",
    "                                  max_depth=3, \n",
    "                                  min_samples_split=2, min_samples_leaf=10)\n",
    "clf = clf.fit(train_x, train_y)\n",
    "train_pred = clf.predict(train_x)\n",
    "test_pred = clf.predict(test_x)\n",
    "print (metrics.accuracy_score(train_y, train_pred))\n",
    "print (metrics.accuracy_score(test_y, test_pred))\n",
    "cm = confusion_matrix(test_y, test_pred)\n",
    "print (cm)"
   ]
  },
  {
   "cell_type": "code",
   "execution_count": 32,
   "metadata": {},
   "outputs": [
    {
     "name": "stdout",
     "output_type": "stream",
     "text": [
      "0.967997333111\n",
      "0.969\n",
      "[[2270   29]\n",
      " [  64  637]]\n"
     ]
    }
   ],
   "source": [
    "clf = tree.DecisionTreeClassifier(criterion='gini', splitter='best', \n",
    "                                  max_depth=5, \n",
    "                                  min_samples_split=10, min_samples_leaf=50)\n",
    "clf = clf.fit(train_x, train_y)\n",
    "train_pred = clf.predict(train_x)\n",
    "test_pred = clf.predict(test_x)\n",
    "print (metrics.accuracy_score(train_y, train_pred))\n",
    "print (metrics.accuracy_score(test_y, test_pred))\n",
    "cm = confusion_matrix(test_y, test_pred)\n",
    "print (cm)"
   ]
  },
  {
   "cell_type": "code",
   "execution_count": 33,
   "metadata": {},
   "outputs": [],
   "source": [
    "# in these last two cases we have more false positive... maybe it's meaningful"
   ]
  },
  {
   "cell_type": "code",
   "execution_count": null,
   "metadata": {},
   "outputs": [],
   "source": []
  }
 ],
 "metadata": {
  "kernelspec": {
   "display_name": "Python 3",
   "language": "python",
   "name": "python3"
  },
  "language_info": {
   "codemirror_mode": {
    "name": "ipython",
    "version": 3
   },
   "file_extension": ".py",
   "mimetype": "text/x-python",
   "name": "python",
   "nbconvert_exporter": "python",
   "pygments_lexer": "ipython3",
   "version": "3.5.4"
  }
 },
 "nbformat": 4,
 "nbformat_minor": 2
}
