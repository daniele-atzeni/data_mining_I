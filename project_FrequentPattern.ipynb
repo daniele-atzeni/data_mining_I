{
 "cells": [
  {
   "cell_type": "code",
   "execution_count": 8,
   "metadata": {},
   "outputs": [],
   "source": [
    "%matplotlib inline\n",
    "\n",
    "import math\n",
    "import numpy as np\n",
    "import pandas as pd\n",
    "import scipy.stats as stats\n",
    "import matplotlib.pyplot as plt\n",
    "\n",
    "from collections import defaultdict\n",
    "from scipy.stats.stats import pearsonr"
   ]
  },
  {
   "cell_type": "code",
   "execution_count": 9,
   "metadata": {},
   "outputs": [],
   "source": [
    "import subprocess"
   ]
  },
  {
   "cell_type": "code",
   "execution_count": 10,
   "metadata": {},
   "outputs": [],
   "source": [
    "def call_apriori(fileinput, fileoutput, delimiter=',', target_type = 's',\n",
    "                min_nbr_items = 1, min_sup = 2, min_conf = 2):\n",
    "    # apriori\n",
    "    # -t# {m: maximal, c: closed, s: frequent, r: association rules}\n",
    "    # -m# minimum number of items per item set/association rule\n",
    "    # -s# minimum support of an item set, positive: percentage, negative: absolute\n",
    "    # -c# minimum confidence rule percentage\n",
    "    # -b# line delimiter (,)\n",
    "    # The default additional information output format for rules is \" (%X, %C)\"\n",
    "    # %X relative body set support as a percentage\n",
    "    # %C rule confidence as a percentage\n",
    "    # %L lift\n",
    "\n",
    "    if target_type == 'r':\n",
    "        call_cmd = ['apriori.exe', '-b%s' % delimiter, '-t%s' % target_type, '-m%s' % min_nbr_items, '-s%s' % min_sup, '-c%s' % min_conf, '-v (%X, %C, %L)', fileinput, fileoutput] \n",
    "                    \n",
    "                   \n",
    "    else:\n",
    "        call_cmd = ['apriori.exe', '-b%s' % delimiter, '-t%s' % target_type, '-m%s' % min_nbr_items, '-s%s' % min_sup, fileinput, fileoutput]\n",
    "                           \n",
    "    \n",
    "    ret = subprocess.call(call_cmd,  stdout=open('apriori_stdout.txt', 'w'), stderr=open('apriori_stderr.txt', 'w'),shell = True)\n",
    "    \n",
    "    return ret"
   ]
  },
  {
   "cell_type": "code",
   "execution_count": 11,
   "metadata": {},
   "outputs": [],
   "source": [
    "import re\n",
    "def read_rules(filename):\n",
    "    data = open(filename, 'r')\n",
    "    rules = list()\n",
    "    # Creating the new text file without the break spaces inside a row\n",
    "    with open('rules_cleaned.txt', 'w') as file:\n",
    "        file.write(data.read().replace('\\n ',' '))\n",
    "    data_new = open('rules_cleaned.txt', 'r')\n",
    "    for row in data_new:\n",
    "        fileds = row.split(' <- ')\n",
    "        cons = fileds[0]\n",
    "        other = fileds[1].split(' (')\n",
    "        ant = other[0].split(' ')\n",
    "        other2 = other[1].split(', ')\n",
    "        sup = float(other2[0])\n",
    "        conf = float(other2[1])\n",
    "        lift = float(other2[2].replace(')', ''))\n",
    "        rule = {\n",
    "            'ant': ant,\n",
    "            'cons': cons,\n",
    "            'sup': sup,\n",
    "            'conf': conf,\n",
    "            'lift': lift\n",
    "        }\n",
    "        rules.append(rule)\n",
    "    data.close()\n",
    "    data_new.close()\n",
    "    return rules"
   ]
  },
  {
   "cell_type": "code",
   "execution_count": 12,
   "metadata": {},
   "outputs": [],
   "source": [
    "#Function for reading frequent,maximal and closed patterns\n",
    "def read_pattern(filename):\n",
    "    data = open(filename, 'r')\n",
    "    patterns = list()\n",
    "    with open('pattern_cleaned.txt', 'w') as file:\n",
    "         file.write(data.read().replace('\\n ',' '))\n",
    "    data_new = open('pattern_cleaned.txt', 'r')\n",
    "\n",
    "    for row in data_new :\n",
    "        fileds = row.split(' ')\n",
    "        n=len(fileds)\n",
    "        support = fileds[-1]\n",
    "        support = support.replace('(','')\n",
    "        support = support.replace(')','')\n",
    "        support = support.replace('\\n','')\n",
    "        support = float(support)\n",
    "        pattern = {\n",
    "                    'support':support,\n",
    "                    'pattern' :fileds[:(n-1)]\n",
    "                }\n",
    "        patterns.append(pattern)\n",
    "    data.close()\n",
    "    data_new.close()\n",
    "    return patterns"
   ]
  },
  {
   "cell_type": "code",
   "execution_count": 13,
   "metadata": {},
   "outputs": [],
   "source": [
    "df = pd.read_csv(\"HR_comma_sep.csv\")"
   ]
  },
  {
   "cell_type": "code",
   "execution_count": 14,
   "metadata": {},
   "outputs": [
    {
     "data": {
      "text/plain": [
       "96"
      ]
     },
     "execution_count": 14,
     "metadata": {},
     "output_type": "execute_result"
    }
   ],
   "source": [
    "min(df[\"average_montly_hours\"])"
   ]
  },
  {
   "cell_type": "code",
   "execution_count": 15,
   "metadata": {},
   "outputs": [
    {
     "data": {
      "text/plain": [
       "310"
      ]
     },
     "execution_count": 15,
     "metadata": {},
     "output_type": "execute_result"
    }
   ],
   "source": [
    "max(df[\"average_montly_hours\"])"
   ]
  },
  {
   "cell_type": "code",
   "execution_count": 16,
   "metadata": {},
   "outputs": [],
   "source": [
    "#Mappatura dei valori continui di Satisfaction Level in intervalli discreti di 0.1 tra 0.0 e 1.0\n",
    "df[\"satisfactionGroups\"] = pd.cut(df[\"satisfaction_level\"], bins = [x * 0.1 for x in range(0, 12)],right=False, labels=[x * 0.1 for x in range(0, 11)])"
   ]
  },
  {
   "cell_type": "code",
   "execution_count": 17,
   "metadata": {},
   "outputs": [],
   "source": [
    "#Mappatura dei valori continui di Satisfaction Level in intervalli discreti di 10 tra 90(il valore minimo e' 96) e 310(il valore massimo e'310)\n",
    "df[\"A.M.H.groups\"] = pd.cut(df[\"average_montly_hours\"],bins=range(90,330,10),right = False,labels=range(90,320,10))"
   ]
  },
  {
   "cell_type": "code",
   "execution_count": 18,
   "metadata": {},
   "outputs": [],
   "source": [
    "#Mappatura dei valori continui di Last Evaluation.(Come Satisfaction Level)\n",
    "\n",
    "df[\"L.E.groups\"] = pd.cut(df[\"last_evaluation\"], bins = [x * 0.1 for x in range(0, 12)],right=False, labels=[x * 0.1 for x in range(0, 11)])"
   ]
  },
  {
   "cell_type": "code",
   "execution_count": 19,
   "metadata": {},
   "outputs": [],
   "source": [
    "df.drop(['satisfaction_level','last_evaluation','average_montly_hours'],axis = 1, inplace=True)"
   ]
  },
  {
   "cell_type": "code",
   "execution_count": 20,
   "metadata": {},
   "outputs": [
    {
     "data": {
      "text/html": [
       "<div>\n",
       "<style scoped>\n",
       "    .dataframe tbody tr th:only-of-type {\n",
       "        vertical-align: middle;\n",
       "    }\n",
       "\n",
       "    .dataframe tbody tr th {\n",
       "        vertical-align: top;\n",
       "    }\n",
       "\n",
       "    .dataframe thead th {\n",
       "        text-align: right;\n",
       "    }\n",
       "</style>\n",
       "<table border=\"1\" class=\"dataframe\">\n",
       "  <thead>\n",
       "    <tr style=\"text-align: right;\">\n",
       "      <th></th>\n",
       "      <th>number_project</th>\n",
       "      <th>time_spend_company</th>\n",
       "      <th>Work_accident</th>\n",
       "      <th>left</th>\n",
       "      <th>promotion_last_5years</th>\n",
       "      <th>sales</th>\n",
       "      <th>salary</th>\n",
       "      <th>satisfactionGroups</th>\n",
       "      <th>A.M.H.groups</th>\n",
       "      <th>L.E.groups</th>\n",
       "    </tr>\n",
       "  </thead>\n",
       "  <tbody>\n",
       "    <tr>\n",
       "      <th>0</th>\n",
       "      <td>2</td>\n",
       "      <td>3</td>\n",
       "      <td>0</td>\n",
       "      <td>1</td>\n",
       "      <td>0</td>\n",
       "      <td>sales</td>\n",
       "      <td>low</td>\n",
       "      <td>0.3</td>\n",
       "      <td>150</td>\n",
       "      <td>0.5</td>\n",
       "    </tr>\n",
       "    <tr>\n",
       "      <th>1</th>\n",
       "      <td>5</td>\n",
       "      <td>6</td>\n",
       "      <td>0</td>\n",
       "      <td>1</td>\n",
       "      <td>0</td>\n",
       "      <td>sales</td>\n",
       "      <td>medium</td>\n",
       "      <td>0.8</td>\n",
       "      <td>260</td>\n",
       "      <td>0.8</td>\n",
       "    </tr>\n",
       "    <tr>\n",
       "      <th>2</th>\n",
       "      <td>7</td>\n",
       "      <td>4</td>\n",
       "      <td>0</td>\n",
       "      <td>1</td>\n",
       "      <td>0</td>\n",
       "      <td>sales</td>\n",
       "      <td>medium</td>\n",
       "      <td>0.1</td>\n",
       "      <td>270</td>\n",
       "      <td>0.8</td>\n",
       "    </tr>\n",
       "    <tr>\n",
       "      <th>3</th>\n",
       "      <td>5</td>\n",
       "      <td>5</td>\n",
       "      <td>0</td>\n",
       "      <td>1</td>\n",
       "      <td>0</td>\n",
       "      <td>sales</td>\n",
       "      <td>low</td>\n",
       "      <td>0.7</td>\n",
       "      <td>220</td>\n",
       "      <td>0.8</td>\n",
       "    </tr>\n",
       "    <tr>\n",
       "      <th>4</th>\n",
       "      <td>2</td>\n",
       "      <td>3</td>\n",
       "      <td>0</td>\n",
       "      <td>1</td>\n",
       "      <td>0</td>\n",
       "      <td>sales</td>\n",
       "      <td>low</td>\n",
       "      <td>0.3</td>\n",
       "      <td>150</td>\n",
       "      <td>0.5</td>\n",
       "    </tr>\n",
       "  </tbody>\n",
       "</table>\n",
       "</div>"
      ],
      "text/plain": [
       "   number_project  time_spend_company  Work_accident  left  \\\n",
       "0               2                   3              0     1   \n",
       "1               5                   6              0     1   \n",
       "2               7                   4              0     1   \n",
       "3               5                   5              0     1   \n",
       "4               2                   3              0     1   \n",
       "\n",
       "   promotion_last_5years  sales  salary satisfactionGroups A.M.H.groups  \\\n",
       "0                      0  sales     low                0.3          150   \n",
       "1                      0  sales  medium                0.8          260   \n",
       "2                      0  sales  medium                0.1          270   \n",
       "3                      0  sales     low                0.7          220   \n",
       "4                      0  sales     low                0.3          150   \n",
       "\n",
       "  L.E.groups  \n",
       "0        0.5  \n",
       "1        0.8  \n",
       "2        0.8  \n",
       "3        0.8  \n",
       "4        0.5  "
      ]
     },
     "execution_count": 20,
     "metadata": {},
     "output_type": "execute_result"
    }
   ],
   "source": [
    "df.head()"
   ]
  },
  {
   "cell_type": "code",
   "execution_count": 21,
   "metadata": {},
   "outputs": [],
   "source": [
    "#trasformo in stringa i miei valori ed inserisco una lettera per identificare gli attributi numerici\n",
    "\n",
    "df2 = df\n",
    "df2['NumberProject'] = df['number_project'].astype(str) + '_NoP'\n",
    "df2['TimeSpendCompany'] = df['time_spend_company'].astype(str) + '_TSC'\n",
    "df2['WorkAccident'] = df['Work_accident'].map({0:'NoAcc' , 1:'YesAcc'}).astype(str)\n",
    "df2['Left'] = df['left'].map({0:'NoLeft',1:'YesLeft'}).astype(str) \n",
    "df2['Promotion'] = df['promotion_last_5years'].map({0:'NoProm',1:'YesProm'}).astype(str)\n",
    "df2['Deparment'] = df['sales'].astype(str)\n",
    "df2['Salary'] = df['salary'].astype(str)\n",
    "df2['Satisfaction'] = df['satisfactionGroups'].astype(str) + '_Sat'\n",
    "df2['AverageHours'] = df['A.M.H.groups'].astype(str) + '_AH'\n",
    "df2['LastEvaluation'] = df['L.E.groups'].astype(str) + '_LE'"
   ]
  },
  {
   "cell_type": "code",
   "execution_count": 22,
   "metadata": {},
   "outputs": [],
   "source": [
    "#N.B,non confondere _NoP con NoProm\n",
    "#Non capisco perche' in SatisfactionGroups,una volta trasformati in stringa \n",
    "# 0.3 e 0.7 vengono scritti con una marea di cifre significative."
   ]
  },
  {
   "cell_type": "code",
   "execution_count": 23,
   "metadata": {},
   "outputs": [],
   "source": [
    "df2.drop(['satisfactionGroups','A.M.H.groups','L.E.groups'],axis = 1, inplace=True)"
   ]
  },
  {
   "cell_type": "code",
   "execution_count": 24,
   "metadata": {},
   "outputs": [],
   "source": [
    "df2.drop([ 'number_project', 'time_spend_company' ,'Work_accident' ,'left' ,'promotion_last_5years' ,'sales' ,'salary'],axis = 1, inplace= True)"
   ]
  },
  {
   "cell_type": "code",
   "execution_count": 25,
   "metadata": {},
   "outputs": [
    {
     "data": {
      "text/plain": [
       "150_AH    1259\n",
       "140_AH    1218\n",
       "250_AH    1034\n",
       "130_AH    1016\n",
       "260_AH    1012\n",
       "240_AH     999\n",
       "160_AH     893\n",
       "220_AH     868\n",
       "230_AH     862\n",
       "180_AH     800\n",
       "170_AH     799\n",
       "190_AH     770\n",
       "210_AH     767\n",
       "200_AH     735\n",
       "270_AH     665\n",
       "120_AH     322\n",
       "280_AH     286\n",
       "100_AH     179\n",
       "110_AH     156\n",
       "300_AH     152\n",
       "290_AH     135\n",
       "90_AH       54\n",
       "310_AH      18\n",
       "Name: AverageHours, dtype: int64"
      ]
     },
     "execution_count": 25,
     "metadata": {},
     "output_type": "execute_result"
    }
   ],
   "source": [
    "df2[\"AverageHours\"].value_counts()"
   ]
  },
  {
   "cell_type": "code",
   "execution_count": 26,
   "metadata": {},
   "outputs": [],
   "source": [
    "#Ora abbiamo il nostro dataset pronto per l'Apriori\n",
    "#La funzione ha bisogno di prendere un .csv come parametro"
   ]
  },
  {
   "cell_type": "code",
   "execution_count": 27,
   "metadata": {},
   "outputs": [],
   "source": [
    "df2.to_csv('HR_FrequentPatterns.csv', sep=',', header=False)"
   ]
  },
  {
   "cell_type": "code",
   "execution_count": 28,
   "metadata": {},
   "outputs": [],
   "source": [
    "\n",
    "delimiter=','\n",
    "target_type='s'\n",
    "min_nbr_items=2\n",
    "min_sup=4\n",
    "min_conf=2\n",
    "\n",
    "ret_val = call_apriori('HR_FrequentPatterns.csv', 'HR_FrequentPatterns.txt', \n",
    "                       delimiter, target_type, min_nbr_items, min_sup, min_conf)"
   ]
  },
  {
   "cell_type": "code",
   "execution_count": 29,
   "metadata": {},
   "outputs": [],
   "source": [
    "delimiter=','\n",
    "target_type='r'\n",
    "min_nbr_items=2\n",
    "min_sup=10\n",
    "min_conf=25\n",
    "\n",
    "ret_val = call_apriori('HR_FrequentPatterns.csv', 'HR_Rules.txt', delimiter, target_type, \n",
    "                       min_nbr_items, min_sup, min_conf)"
   ]
  },
  {
   "cell_type": "code",
   "execution_count": 30,
   "metadata": {},
   "outputs": [
    {
     "name": "stdout",
     "output_type": "stream",
     "text": [
      "['2_NoP', 'YesLeft', '3_TSC', 'NoProm'] --> 0.30000000000000004_Sat  Lift 576.969  Conf. 37.467\n",
      "['2_NoP', 'YesLeft', '3_TSC'] --> 0.30000000000000004_Sat  Lift 572.438  Conf. 37.1728\n",
      "['2_NoP', 'YesLeft', 'NoProm'] --> 0.30000000000000004_Sat  Lift 571.411  Conf. 37.1061\n",
      "['2_NoP', 'YesLeft'] --> 0.30000000000000004_Sat  Lift 567.035  Conf. 36.822\n",
      "['2_NoP', '3_TSC', 'NoAcc', 'NoProm'] --> 0.30000000000000004_Sat  Lift 526.183  Conf. 34.1691\n",
      "['2_NoP', '3_TSC', 'NoAcc'] --> 0.30000000000000004_Sat  Lift 524.31  Conf. 34.0475\n",
      "['2_NoP', '3_TSC', 'NoProm'] --> 0.30000000000000004_Sat  Lift 513.313  Conf. 33.3333\n",
      "['2_NoP', '3_TSC'] --> 0.30000000000000004_Sat  Lift 510.821  Conf. 33.1715\n",
      "['2_NoP', 'NoAcc', 'NoProm'] --> 0.30000000000000004_Sat  Lift 453.219  Conf. 29.431\n",
      "['2_NoP', 'NoAcc'] --> 0.30000000000000004_Sat  Lift 450.748  Conf. 29.2705\n",
      "['2_NoP', 'NoProm'] --> 0.30000000000000004_Sat  Lift 434.274  Conf. 28.2008\n",
      "['2_NoP'] --> 0.30000000000000004_Sat  Lift 429.48  Conf. 27.8894\n",
      "['YesLeft', '3_TSC', 'NoAcc', 'NoProm'] --> 0.30000000000000004_Sat  Lift 572.857  Conf. 37.2\n",
      "['YesLeft', '3_TSC', 'NoAcc'] --> 0.30000000000000004_Sat  Lift 568.311  Conf. 36.9048\n",
      "['YesLeft', '3_TSC', 'NoProm'] --> 0.30000000000000004_Sat  Lift 564.611  Conf. 36.6645\n",
      "['YesLeft', '3_TSC'] --> 0.30000000000000004_Sat  Lift 559.271  Conf. 36.3178\n",
      "['2_NoP', 'YesLeft', '3_TSC', 'NoProm'] --> 130_AH  Lift 386.598  Conf. 26.1873\n",
      "['2_NoP', 'YesLeft', '3_TSC'] --> 130_AH  Lift 385.494  Conf. 26.1126\n",
      "['2_NoP', 'YesLeft', 'NoProm'] --> 130_AH  Lift 379.75  Conf. 25.7235\n",
      "['2_NoP', 'YesLeft'] --> 130_AH  Lift 378.726  Conf. 25.6541\n"
     ]
    }
   ],
   "source": [
    "rules = read_rules('HR_Rules.txt')\n",
    "for r in rules[:20]:\n",
    "    print(r['ant'],'-->',r['cons'],' Lift',r['lift'],' Conf.',r['conf'])"
   ]
  },
  {
   "cell_type": "code",
   "execution_count": 31,
   "metadata": {},
   "outputs": [
    {
     "name": "stdout",
     "output_type": "stream",
     "text": [
      "['low', 'NoLeft', 'NoAcc', 'NoProm']  Support :  27.7485\n",
      "['medium', 'NoLeft', 'NoAcc', 'NoProm']  Support :  27.5485\n",
      "['3_TSC', 'NoLeft', 'NoAcc', 'NoProm']  Support :  26.3084\n",
      "['sales', 'NoAcc', 'NoProm']  Support :  23.2149\n",
      "['YesLeft', 'NoAcc', 'NoProm']  Support :  22.5815\n",
      "['0.5_LE', 'NoProm']  Support :  22.2148\n",
      "['4_NoP', 'NoLeft', 'NoAcc', 'NoProm']  Support :  21.4081\n",
      "['3_NoP', 'NoLeft', 'NoAcc', 'NoProm']  Support :  21.3348\n",
      "['3_TSC', 'low', 'NoProm']  Support :  21.1547\n",
      "['2_TSC', 'NoLeft', 'NoProm']  Support :  20.9147\n",
      "['sales', 'NoLeft', 'NoProm']  Support :  20.2213\n"
     ]
    }
   ],
   "source": [
    "#Cafonata : prove su i maximal partendo da una minsupport di 20 incrementando di 10 finche' non mi ritorna una lista vuota\n",
    "delimiter=','\n",
    "target_type='m'\n",
    "min_nbr_items=2\n",
    "min_sup=20\n",
    "min_conf=10\n",
    "\n",
    "ret_val = call_apriori('HR_FrequentPatterns.csv', 'HR_maximal.txt', delimiter, target_type, \n",
    "                       min_nbr_items, min_sup, min_conf)\n",
    "MaxPatterns20 = read_pattern('HR_maximal.txt')\n",
    "Maxsorted = sorted(MaxPatterns20, key=lambda k: k['support'],reverse = True)\n",
    "for r in Maxsorted[:30]:\n",
    "    print(r['pattern'],' Support : ',r['support'])\n"
   ]
  },
  {
   "cell_type": "code",
   "execution_count": 32,
   "metadata": {},
   "outputs": [
    {
     "name": "stdout",
     "output_type": "stream",
     "text": [
      "['NoLeft', 'NoAcc', 'NoProm']  Support :  61.3374\n",
      "['low', 'NoAcc', 'NoProm']  Support :  41.5228\n",
      "['3_TSC', 'NoAcc', 'NoProm']  Support :  36.3091\n",
      "['medium', 'NoAcc', 'NoProm']  Support :  35.8091\n",
      "['low', 'NoLeft', 'NoProm']  Support :  33.9489\n",
      "['medium', 'NoLeft', 'NoProm']  Support :  33.0222\n",
      "['3_TSC', 'NoLeft', 'NoProm']  Support :  31.5888\n"
     ]
    }
   ],
   "source": [
    "delimiter=','\n",
    "target_type='m'\n",
    "min_nbr_items=2\n",
    "min_sup=30\n",
    "min_conf=10\n",
    "\n",
    "ret_val = call_apriori('HR_FrequentPatterns.csv', 'HR_maximal.txt', delimiter, target_type, \n",
    "                       min_nbr_items, min_sup, min_conf)\n",
    "MaxPatterns30 = read_pattern('HR_maximal.txt')\n",
    "Maxsorted = sorted(MaxPatterns30, key=lambda k: k['support'],reverse = True)\n",
    "for r in Maxsorted[:20]:\n",
    "    print(r['pattern'],' Support : ',r['support'])"
   ]
  },
  {
   "cell_type": "code",
   "execution_count": 33,
   "metadata": {},
   "outputs": [
    {
     "name": "stdout",
     "output_type": "stream",
     "text": [
      "['NoLeft', 'NoAcc', 'NoProm']  Support :  61.3374\n"
     ]
    }
   ],
   "source": [
    "delimiter=','\n",
    "target_type='m'\n",
    "min_nbr_items=2\n",
    "min_sup=50\n",
    "min_conf=10\n",
    "\n",
    "ret_val = call_apriori('HR_FrequentPatterns.csv', 'HR_maximal.txt', delimiter, target_type, \n",
    "                       min_nbr_items, min_sup, min_conf)\n",
    "MaxPatterns50 = read_pattern('HR_maximal.txt')\n",
    "Maxsorted = sorted(MaxPatterns50, key=lambda k: k['support'],reverse = True)\n",
    "for r in Maxsorted[:20]:\n",
    "    print(r['pattern'],' Support : ',r['support'])"
   ]
  },
  {
   "cell_type": "code",
   "execution_count": 34,
   "metadata": {},
   "outputs": [
    {
     "name": "stdout",
     "output_type": "stream",
     "text": [
      "['NoLeft', 'NoAcc', 'NoProm']  Support :  61.3374\n"
     ]
    }
   ],
   "source": [
    "delimiter=','\n",
    "target_type='m'\n",
    "min_nbr_items=2\n",
    "min_sup=60\n",
    "min_conf=10\n",
    "\n",
    "ret_val = call_apriori('HR_FrequentPatterns.csv', 'HR_maximal.txt', delimiter, target_type, \n",
    "                       min_nbr_items, min_sup, min_conf)\n",
    "MaxPatterns60 = read_pattern('HR_maximal.txt')\n",
    "Maxsorted = sorted(MaxPatterns60, key=lambda k: k['support'],reverse = True)\n",
    "for r in Maxsorted[:20]:\n",
    "    print(r['pattern'],' Support : ',r['support'])"
   ]
  },
  {
   "cell_type": "code",
   "execution_count": 35,
   "metadata": {},
   "outputs": [
    {
     "name": "stdout",
     "output_type": "stream",
     "text": [
      "['NoAcc', 'NoProm']  Support :  83.9189\n",
      "['NoLeft', 'NoProm']  Support :  74.1916\n"
     ]
    }
   ],
   "source": [
    "delimiter=','\n",
    "target_type='m'\n",
    "min_nbr_items=2\n",
    "min_sup=70\n",
    "min_conf=10\n",
    "\n",
    "ret_val = call_apriori('HR_FrequentPatterns.csv', 'HR_maximal.txt', delimiter, target_type, \n",
    "                       min_nbr_items, min_sup, min_conf)\n",
    "MaxPatterns70 = read_pattern('HR_maximal.txt')\n",
    "Maxsorted = sorted(MaxPatterns70, key=lambda k: k['support'],reverse = True)\n",
    "for r in Maxsorted[:20]:\n",
    "    print(r['pattern'],' Support : ',r['support'])\n"
   ]
  },
  {
   "cell_type": "code",
   "execution_count": 36,
   "metadata": {},
   "outputs": [
    {
     "name": "stdout",
     "output_type": "stream",
     "text": [
      "['NoAcc', 'NoProm']  Support :  83.9189\n"
     ]
    }
   ],
   "source": [
    "delimiter=','\n",
    "target_type='m'\n",
    "min_nbr_items=2\n",
    "min_sup=80\n",
    "min_conf=10\n",
    "\n",
    "ret_val = call_apriori('HR_FrequentPatterns.csv', 'HR_maximal.txt', delimiter, target_type, \n",
    "                       min_nbr_items, min_sup, min_conf)\n",
    "MaxPatterns80 = read_pattern('HR_maximal.txt')\n",
    "Maxsorted = sorted(MaxPatterns80, key=lambda k: k['support'],reverse = True)\n",
    "for r in Maxsorted[:20]:\n",
    "    print(r['pattern'],' Support : ',r['support'])\n"
   ]
  },
  {
   "cell_type": "code",
   "execution_count": 37,
   "metadata": {},
   "outputs": [],
   "source": [
    "delimiter=','\n",
    "target_type='m'\n",
    "min_nbr_items=2\n",
    "min_sup=90\n",
    "min_conf=10\n",
    "\n",
    "ret_val = call_apriori('HR_FrequentPatterns.csv', 'HR_maximal.txt', delimiter, target_type, \n",
    "                       min_nbr_items, min_sup, min_conf)\n",
    "MaxPatterns90 = read_pattern('HR_maximal.txt')\n",
    "Maxsorted = sorted(MaxPatterns90, key=lambda k: k['support'],reverse = True)\n",
    "for r in Maxsorted[:20]:\n",
    "    print(r['pattern'],' Support : ',r['support'])"
   ]
  },
  {
   "cell_type": "code",
   "execution_count": 38,
   "metadata": {},
   "outputs": [],
   "source": [
    "#DISCUSSIONE RISULTATI"
   ]
  },
  {
   "cell_type": "code",
   "execution_count": 39,
   "metadata": {},
   "outputs": [
    {
     "name": "stdout",
     "output_type": "stream",
     "text": [
      "['NoAcc', 'NoProm']  Support :  83.9189\n",
      "['NoLeft', 'NoProm']  Support :  74.1916\n",
      "['NoLeft', 'NoAcc']  Support :  62.8575\n",
      "['NoLeft', 'NoAcc', 'NoProm']  Support :  61.3374\n",
      "['low', 'NoProm']  Support :  48.3366\n",
      "['3_TSC', 'NoProm']  Support :  42.0628\n",
      "['low', 'NoAcc']  Support :  41.8428\n",
      "['medium', 'NoProm']  Support :  41.7695\n",
      "['low', 'NoAcc', 'NoProm']  Support :  41.5228\n",
      "['3_TSC', 'NoAcc']  Support :  36.9891\n",
      "['medium', 'NoAcc']  Support :  36.7291\n",
      "['3_TSC', 'NoAcc', 'NoProm']  Support :  36.3091\n",
      "['medium', 'NoAcc', 'NoProm']  Support :  35.8091\n",
      "['low', 'NoLeft']  Support :  34.2956\n",
      "['medium', 'NoLeft']  Support :  34.1956\n",
      "['low', 'NoLeft', 'NoProm']  Support :  33.9489\n",
      "['medium', 'NoLeft', 'NoProm']  Support :  33.0222\n",
      "['3_TSC', 'NoLeft']  Support :  32.3822\n",
      "['3_TSC', 'NoLeft', 'NoProm']  Support :  31.5888\n",
      "['medium', 'NoLeft', 'NoAcc']  Support :  28.4419\n"
     ]
    }
   ],
   "source": [
    "#Stessa cosa con i closed\n",
    "delimiter=','\n",
    "target_type='c'\n",
    "min_nbr_items=2\n",
    "min_sup=20\n",
    "min_conf=10\n",
    "\n",
    "ret_val = call_apriori('HR_FrequentPatterns.csv', 'HR_closed.txt', delimiter, target_type, \n",
    "                       min_nbr_items, min_sup, min_conf)\n",
    "CloPattern20 = read_pattern('HR_closed.txt')\n",
    "Closorted = sorted(CloPattern20, key=lambda k: k['support'],reverse = True)\n",
    "for r in Closorted[:20]:\n",
    "    print(r['pattern'],' Support : ',r['support'])"
   ]
  },
  {
   "cell_type": "code",
   "execution_count": 40,
   "metadata": {},
   "outputs": [
    {
     "name": "stdout",
     "output_type": "stream",
     "text": [
      "['NoAcc', 'NoProm']  Support :  83.9189\n",
      "['NoLeft', 'NoProm']  Support :  74.1916\n",
      "['NoLeft', 'NoAcc']  Support :  62.8575\n",
      "['NoLeft', 'NoAcc', 'NoProm']  Support :  61.3374\n"
     ]
    }
   ],
   "source": [
    "delimiter=','\n",
    "target_type='c'\n",
    "min_nbr_items=2\n",
    "min_sup=50\n",
    "min_conf=10\n",
    "\n",
    "ret_val = call_apriori('HR_FrequentPatterns.csv', 'HR_closed.txt', delimiter, target_type, \n",
    "                       min_nbr_items, min_sup, min_conf)\n",
    "CloPattern50 = read_pattern('HR_closed.txt')\n",
    "Closorted = sorted(CloPattern50, key=lambda k: k['support'],reverse = True)\n",
    "for r in Closorted[:20]:\n",
    "    print(r['pattern'],' Support : ',r['support'])"
   ]
  },
  {
   "cell_type": "code",
   "execution_count": 41,
   "metadata": {},
   "outputs": [
    {
     "name": "stdout",
     "output_type": "stream",
     "text": [
      "['NoAcc', 'NoProm']  Support :  83.9189\n"
     ]
    }
   ],
   "source": [
    "delimiter=','\n",
    "target_type='c'\n",
    "min_nbr_items=2\n",
    "min_sup=80\n",
    "min_conf=10\n",
    "\n",
    "ret_val = call_apriori('HR_FrequentPatterns.csv', 'HR_closed.txt', delimiter, target_type, \n",
    "                       min_nbr_items, min_sup, min_conf)\n",
    "CloPattern50 = read_pattern('HR_closed.txt')\n",
    "Closorted = sorted(CloPattern50, key=lambda k: k['support'],reverse = True)\n",
    "for r in Closorted[:20]:\n",
    "    print(r['pattern'],' Support : ',r['support'])"
   ]
  },
  {
   "cell_type": "code",
   "execution_count": 42,
   "metadata": {},
   "outputs": [
    {
     "name": "stdout",
     "output_type": "stream",
     "text": [
      "['NoAcc', 'NoProm']  Support :  83.9189\n",
      "['NoLeft', 'NoProm']  Support :  74.1916\n",
      "['NoLeft', 'NoAcc']  Support :  62.8575\n",
      "['NoLeft', 'NoAcc', 'NoProm']  Support :  61.3374\n",
      "['low', 'NoProm']  Support :  48.3366\n",
      "['3_TSC', 'NoProm']  Support :  42.0628\n",
      "['low', 'NoAcc']  Support :  41.8428\n",
      "['medium', 'NoProm']  Support :  41.7695\n",
      "['low', 'NoAcc', 'NoProm']  Support :  41.5228\n",
      "['3_TSC', 'NoAcc']  Support :  36.9891\n",
      "['medium', 'NoAcc']  Support :  36.7291\n",
      "['3_TSC', 'NoAcc', 'NoProm']  Support :  36.3091\n",
      "['medium', 'NoAcc', 'NoProm']  Support :  35.8091\n",
      "['low', 'NoLeft']  Support :  34.2956\n",
      "['medium', 'NoLeft']  Support :  34.1956\n",
      "['low', 'NoLeft', 'NoProm']  Support :  33.9489\n",
      "['medium', 'NoLeft', 'NoProm']  Support :  33.0222\n",
      "['3_TSC', 'NoLeft']  Support :  32.3822\n",
      "['3_TSC', 'NoLeft', 'NoProm']  Support :  31.5888\n",
      "['medium', 'NoLeft', 'NoAcc']  Support :  28.4419\n"
     ]
    }
   ],
   "source": [
    "#stessa cosa per i frequent\n",
    "delimiter=','\n",
    "target_type='s'\n",
    "min_nbr_items=2\n",
    "min_sup=20\n",
    "min_conf=10\n",
    "\n",
    "ret_val = call_apriori('HR_FrequentPatterns.csv', 'HR_frequent.txt', delimiter, target_type, \n",
    "                       min_nbr_items, min_sup, min_conf)\n",
    "FrePattern20 = read_pattern('HR_frequent.txt')\n",
    "Fresorted = sorted(FrePattern20, key=lambda k: k['support'],reverse = True)\n",
    "for r in Fresorted[:20]:\n",
    "    print(r['pattern'],' Support : ',r['support'])\n",
    "#Vengono uguali ai closed( plausibile )"
   ]
  },
  {
   "cell_type": "code",
   "execution_count": 43,
   "metadata": {},
   "outputs": [
    {
     "name": "stdout",
     "output_type": "stream",
     "text": [
      "['NoAcc', 'NoProm']  Support :  83.9189\n",
      "['NoLeft', 'NoProm']  Support :  74.1916\n",
      "['NoLeft', 'NoAcc']  Support :  62.8575\n",
      "['NoLeft', 'NoAcc', 'NoProm']  Support :  61.3374\n"
     ]
    }
   ],
   "source": [
    "delimiter=','\n",
    "target_type='s'\n",
    "min_nbr_items=2\n",
    "min_sup=50\n",
    "min_conf=10\n",
    "\n",
    "ret_val = call_apriori('HR_FrequentPatterns.csv', 'HR_frequent.txt', delimiter, target_type, \n",
    "                       min_nbr_items, min_sup, min_conf)\n",
    "FrePattern50 = read_pattern('HR_frequent.txt')\n",
    "Fresorted = sorted(FrePattern50, key=lambda k: k['support'],reverse = True)\n",
    "for r in Fresorted[:20]:\n",
    "    print(r['pattern'],' Support : ',r['support'])"
   ]
  },
  {
   "cell_type": "code",
   "execution_count": null,
   "metadata": {},
   "outputs": [],
   "source": []
  }
 ],
 "metadata": {
  "kernelspec": {
   "display_name": "Python 3",
   "language": "python",
   "name": "python3"
  },
  "language_info": {
   "codemirror_mode": {
    "name": "ipython",
    "version": 3
   },
   "file_extension": ".py",
   "mimetype": "text/x-python",
   "name": "python",
   "nbconvert_exporter": "python",
   "pygments_lexer": "ipython3",
   "version": "3.5.4"
  }
 },
 "nbformat": 4,
 "nbformat_minor": 2
}
